{
  "nbformat": 4,
  "nbformat_minor": 0,
  "metadata": {
    "colab": {
      "name": "lab8_q2.ipynb",
      "provenance": [],
      "collapsed_sections": []
    },
    "kernelspec": {
      "name": "python3",
      "display_name": "Python 3"
    },
    "language_info": {
      "name": "python"
    }
  },
  "cells": [
    {
      "cell_type": "code",
      "metadata": {
        "id": "4TTy8aK3o0Z5"
      },
      "source": [
        "import pandas as pd\n",
        "import numpy as np\n",
        "import matplotlib.pyplot as plt\n",
        "import seaborn as sns"
      ],
      "execution_count": 1,
      "outputs": []
    },
    {
      "cell_type": "code",
      "metadata": {
        "colab": {
          "base_uri": "https://localhost:8080/"
        },
        "id": "iU3Cctxao_7f",
        "outputId": "efc01dd1-3896-4d99-f450-27e935a9c098"
      },
      "source": [
        "from google.colab import drive\n",
        "drive.mount('/content/drive')"
      ],
      "execution_count": 2,
      "outputs": [
        {
          "output_type": "stream",
          "text": [
            "Drive already mounted at /content/drive; to attempt to forcibly remount, call drive.mount(\"/content/drive\", force_remount=True).\n"
          ],
          "name": "stdout"
        }
      ]
    },
    {
      "cell_type": "code",
      "metadata": {
        "id": "uojs-5V1pJI3"
      },
      "source": [
        "df = pd.read_csv(\"/content/drive/MyDrive/priject1/lab8/Iris.csv\")"
      ],
      "execution_count": 3,
      "outputs": []
    },
    {
      "cell_type": "code",
      "metadata": {
        "colab": {
          "base_uri": "https://localhost:8080/",
          "height": 195
        },
        "id": "m8d6EsrTpdOx",
        "outputId": "e156be83-26d6-4159-dbcf-78685f053403"
      },
      "source": [
        "df.head()"
      ],
      "execution_count": 4,
      "outputs": [
        {
          "output_type": "execute_result",
          "data": {
            "text/html": [
              "<div>\n",
              "<style scoped>\n",
              "    .dataframe tbody tr th:only-of-type {\n",
              "        vertical-align: middle;\n",
              "    }\n",
              "\n",
              "    .dataframe tbody tr th {\n",
              "        vertical-align: top;\n",
              "    }\n",
              "\n",
              "    .dataframe thead th {\n",
              "        text-align: right;\n",
              "    }\n",
              "</style>\n",
              "<table border=\"1\" class=\"dataframe\">\n",
              "  <thead>\n",
              "    <tr style=\"text-align: right;\">\n",
              "      <th></th>\n",
              "      <th>Id</th>\n",
              "      <th>SepalLengthCm</th>\n",
              "      <th>SepalWidthCm</th>\n",
              "      <th>PetalLengthCm</th>\n",
              "      <th>PetalWidthCm</th>\n",
              "      <th>Species</th>\n",
              "    </tr>\n",
              "  </thead>\n",
              "  <tbody>\n",
              "    <tr>\n",
              "      <th>0</th>\n",
              "      <td>1</td>\n",
              "      <td>5.1</td>\n",
              "      <td>3.5</td>\n",
              "      <td>1.4</td>\n",
              "      <td>0.2</td>\n",
              "      <td>Iris-setosa</td>\n",
              "    </tr>\n",
              "    <tr>\n",
              "      <th>1</th>\n",
              "      <td>2</td>\n",
              "      <td>4.9</td>\n",
              "      <td>3.0</td>\n",
              "      <td>1.4</td>\n",
              "      <td>0.2</td>\n",
              "      <td>Iris-setosa</td>\n",
              "    </tr>\n",
              "    <tr>\n",
              "      <th>2</th>\n",
              "      <td>3</td>\n",
              "      <td>4.7</td>\n",
              "      <td>3.2</td>\n",
              "      <td>1.3</td>\n",
              "      <td>0.2</td>\n",
              "      <td>Iris-setosa</td>\n",
              "    </tr>\n",
              "    <tr>\n",
              "      <th>3</th>\n",
              "      <td>4</td>\n",
              "      <td>4.6</td>\n",
              "      <td>3.1</td>\n",
              "      <td>1.5</td>\n",
              "      <td>0.2</td>\n",
              "      <td>Iris-setosa</td>\n",
              "    </tr>\n",
              "    <tr>\n",
              "      <th>4</th>\n",
              "      <td>5</td>\n",
              "      <td>5.0</td>\n",
              "      <td>3.6</td>\n",
              "      <td>1.4</td>\n",
              "      <td>0.2</td>\n",
              "      <td>Iris-setosa</td>\n",
              "    </tr>\n",
              "  </tbody>\n",
              "</table>\n",
              "</div>"
            ],
            "text/plain": [
              "   Id  SepalLengthCm  SepalWidthCm  PetalLengthCm  PetalWidthCm      Species\n",
              "0   1            5.1           3.5            1.4           0.2  Iris-setosa\n",
              "1   2            4.9           3.0            1.4           0.2  Iris-setosa\n",
              "2   3            4.7           3.2            1.3           0.2  Iris-setosa\n",
              "3   4            4.6           3.1            1.5           0.2  Iris-setosa\n",
              "4   5            5.0           3.6            1.4           0.2  Iris-setosa"
            ]
          },
          "metadata": {
            "tags": []
          },
          "execution_count": 4
        }
      ]
    },
    {
      "cell_type": "code",
      "metadata": {
        "id": "qlxNB8KYAHbP"
      },
      "source": [
        "df[\"Species\"] = df[\"Species\"].astype('category')\n",
        "df[\"Species\"] = df[\"Species\"].cat.codes"
      ],
      "execution_count": 5,
      "outputs": []
    },
    {
      "cell_type": "code",
      "metadata": {
        "id": "S2n7hKjIpfvU"
      },
      "source": [
        "features = ['sepal length', 'sepal width', 'petal length', 'petal width']\n",
        "\n",
        "X = df.drop(\"Species\", axis=1)\n",
        "X = X.drop(\"Id\", axis=1)\n",
        "y = df[\"Species\"]"
      ],
      "execution_count": 6,
      "outputs": []
    },
    {
      "cell_type": "code",
      "metadata": {
        "id": "Fet9hoC2Jmpr"
      },
      "source": [
        "from sklearn.model_selection import train_test_split\n",
        "X_train, X_test, y_train, y_test = train_test_split(X, y, test_size = 0.2, random_state = 2)"
      ],
      "execution_count": 7,
      "outputs": []
    },
    {
      "cell_type": "code",
      "metadata": {
        "colab": {
          "base_uri": "https://localhost:8080/"
        },
        "id": "Y0WpoHyVI8oO",
        "outputId": "300189f2-327f-4a1d-ad98-014395ce789f"
      },
      "source": [
        "from sklearn import model_selection\n",
        "from sklearn.discriminant_analysis import LinearDiscriminantAnalysis\n",
        "LDA = LinearDiscriminantAnalysis()\n",
        "kfold = model_selection.KFold(n_splits=10)\n",
        "cv_results = model_selection.cross_val_score(LDA, X_train, y_train, cv=kfold, scoring='accuracy')\n",
        "print(\"For LDA\")\n",
        "print(\"Accuracy: \", cv_results.mean())\n",
        "print(\"Standard Deviation: \", cv_results.std())"
      ],
      "execution_count": 8,
      "outputs": [
        {
          "output_type": "stream",
          "text": [
            "For LDA\n",
            "Accuracy:  0.975\n",
            "Standard Deviation:  0.053359368645273735\n"
          ],
          "name": "stdout"
        }
      ]
    },
    {
      "cell_type": "code",
      "metadata": {
        "id": "DUTx2a8Rr23R"
      },
      "source": [
        "from sklearn.preprocessing import StandardScaler\n",
        "scaler = StandardScaler()\n",
        "X_std = scaler.fit_transform(X)"
      ],
      "execution_count": 9,
      "outputs": []
    },
    {
      "cell_type": "code",
      "metadata": {
        "id": "oYHPvV1wwUNr"
      },
      "source": [
        "X = pd.DataFrame(X_std, columns = X.columns)"
      ],
      "execution_count": 10,
      "outputs": []
    },
    {
      "cell_type": "code",
      "metadata": {
        "colab": {
          "base_uri": "https://localhost:8080/"
        },
        "id": "Mom6YaRy28Tj",
        "outputId": "81cbe901-7c2e-4271-e3f6-8adef57bfadf"
      },
      "source": [
        "from sklearn.decomposition import PCA\n",
        "pca = PCA(n_components =4)\n",
        "pca = pca.fit(X)\n",
        "pca"
      ],
      "execution_count": 11,
      "outputs": [
        {
          "output_type": "execute_result",
          "data": {
            "text/plain": [
              "PCA(copy=True, iterated_power='auto', n_components=4, random_state=None,\n",
              "    svd_solver='auto', tol=0.0, whiten=False)"
            ]
          },
          "metadata": {
            "tags": []
          },
          "execution_count": 11
        }
      ]
    },
    {
      "cell_type": "code",
      "metadata": {
        "colab": {
          "base_uri": "https://localhost:8080/"
        },
        "id": "CWgs64ZXeN-P",
        "outputId": "da0b1ac2-0be7-4802-8b60-0fc4bad1830f"
      },
      "source": [
        "new_list = set(pca.components_[0])\n",
        "new_list.remove(max(new_list))\n",
        "print(\"The feature having high significance are:\")\n",
        "for i in range(len(pca.components_[0])):\n",
        "  if pca.components_[0][i] == max(pca.components_[0]):\n",
        "    print(X.columns[i])\n",
        "for i in range(len(pca.components_[0])):\n",
        "  if pca.components_[0][i] == max(new_list):\n",
        "    print(X.columns[i])"
      ],
      "execution_count": 12,
      "outputs": [
        {
          "output_type": "stream",
          "text": [
            "The feature having high significance are:\n",
            "PetalLengthCm\n",
            "PetalWidthCm\n"
          ],
          "name": "stdout"
        }
      ]
    },
    {
      "cell_type": "code",
      "metadata": {
        "colab": {
          "base_uri": "https://localhost:8080/",
          "height": 295
        },
        "id": "DFBgYAUlDoVP",
        "outputId": "ed653fa7-5ddf-4103-9247-01dc76c3e692"
      },
      "source": [
        "for key, group in df.groupby(['Species']):\n",
        "    plt.plot(group['PetalLengthCm'], group['PetalWidthCm'],\n",
        "               label=key, marker='o', linestyle='none')\n",
        "    \n",
        "m = np.array([df['PetalLengthCm'].mean(), \n",
        "              df['PetalWidthCm'].mean()])\n",
        "\n",
        "plt.quiver([m[0]]*2, [m[1]]*2, pca.components_[:2,1], pca.components_[:2,0], zorder=11, width=0.01, scale=3)\n",
        "    \n",
        "plt.legend(loc=0, fontsize=10)\n",
        "plt.xlabel('PetalLengthCm')\n",
        "plt.ylabel('PetalWidthCm')\n",
        "plt.title('Distribution of samples using first two Principle components');"
      ],
      "execution_count": 13,
      "outputs": [
        {
          "output_type": "display_data",
          "data": {
            "image/png": "[encoded data removed]",
            "text/plain": [
              "<Figure size 432x288 with 1 Axes>"
            ]
          },
          "metadata": {
            "tags": [],
            "needs_background": "light"
          }
        }
      ]
    },
    {
      "cell_type": "code",
      "metadata": {
        "id": "kOvuAJrPKw6-"
      },
      "source": [
        "\n",
        "from sklearn.discriminant_analysis import LinearDiscriminantAnalysis\n",
        "lda = LinearDiscriminantAnalysis(n_components=2)\n",
        "lda.fit(X, y)\n",
        "X_lda = lda.transform(X)"
      ],
      "execution_count": 14,
      "outputs": []
    },
    {
      "cell_type": "code",
      "metadata": {
        "colab": {
          "base_uri": "https://localhost:8080/"
        },
        "id": "jR72MUS3L7fg",
        "outputId": "dce8e5a5-e1c7-4ee7-d6c9-8355a02b75fe"
      },
      "source": [
        "lda.explained_variance_ratio_"
      ],
      "execution_count": 15,
      "outputs": [
        {
          "output_type": "execute_result",
          "data": {
            "text/plain": [
              "array([0.99147248, 0.00852752])"
            ]
          },
          "metadata": {
            "tags": []
          },
          "execution_count": 15
        }
      ]
    },
    {
      "cell_type": "code",
      "metadata": {
        "id": "QW1F9_LQDo1K",
        "colab": {
          "base_uri": "https://localhost:8080/",
          "height": 281
        },
        "outputId": "9e8f5591-b3e1-478a-cd84-343ea37e78c5"
      },
      "source": [
        "data_plot = X_lda\n",
        "target_names = [\"Iris-setosa\", \"Iris-versicolor\", \"Iris-virginica\"]\n",
        "\n",
        "plt.figure()\n",
        "colors = ['red', 'green', 'blue']\n",
        "lw = 2\n",
        "for color, i, target_name in zip(colors, [0, 1, 2], target_names):\n",
        "    plt.scatter(data_plot[y == i, 0], data_plot[y == i, 1], alpha=.8, color=color,\n",
        "                label=target_name)\n",
        "\n",
        "plt.legend(loc=0, shadow=False, scatterpoints=1)\n",
        "plt.title('Distribution of samples using first two Linear Discriminants');\n",
        "plt.show()"
      ],
      "execution_count": 16,
      "outputs": [
        {
          "output_type": "display_data",
          "data": {
            "image/png": "[encoded data removed]",
            "text/plain": [
              "<Figure size 432x288 with 1 Axes>"
            ]
          },
          "metadata": {
            "tags": [],
            "needs_background": "light"
          }
        }
      ]
    },
    {
      "cell_type": "code",
      "metadata": {
        "id": "MCE8hV4B-xNv"
      },
      "source": [
        "from sklearn.naive_bayes import GaussianNB\n",
        "nvb = GaussianNB()\n",
        "y_pred = nvb.fit(X_train, y_train).predict(X_test)"
      ],
      "execution_count": 17,
      "outputs": []
    },
    {
      "cell_type": "code",
      "metadata": {
        "colab": {
          "base_uri": "https://localhost:8080/"
        },
        "id": "hN9M91M0_hMq",
        "outputId": "b0d7d66b-18f1-4110-b381-24f9af64c664"
      },
      "source": [
        "from sklearn.metrics import accuracy_score\n",
        "\n",
        "print(\"Accuracy for model trained on complete dataset:\")\n",
        "accuracy_score(y_test, y_pred)"
      ],
      "execution_count": 18,
      "outputs": [
        {
          "output_type": "stream",
          "text": [
            "Accuracy for model trained on complete dataset:\n"
          ],
          "name": "stdout"
        },
        {
          "output_type": "execute_result",
          "data": {
            "text/plain": [
              "0.9666666666666667"
            ]
          },
          "metadata": {
            "tags": []
          },
          "execution_count": 18
        }
      ]
    },
    {
      "cell_type": "code",
      "metadata": {
        "id": "VPFcinvhBTeO"
      },
      "source": [
        "del X_train[\"SepalLengthCm\"]\n",
        "del X_train[\"SepalWidthCm\"]\n",
        "del X_test[\"SepalLengthCm\"]\n",
        "del X_test[\"SepalWidthCm\"]"
      ],
      "execution_count": 19,
      "outputs": []
    },
    {
      "cell_type": "code",
      "metadata": {
        "id": "oRImQ6eIBMQ1"
      },
      "source": [
        "nvb1 = GaussianNB()\n",
        "y_pred2 = nvb1.fit(X_train, y_train).predict(X_test)"
      ],
      "execution_count": 20,
      "outputs": []
    },
    {
      "cell_type": "code",
      "metadata": {
        "colab": {
          "base_uri": "https://localhost:8080/"
        },
        "id": "sFnBtR-JBx8j",
        "outputId": "a8dc3125-40ff-4ee8-9041-c797bb41ca28"
      },
      "source": [
        "print(\"Accuracy for model trained on selected features dataset:\")\n",
        "accuracy_score(y_test, y_pred2)"
      ],
      "execution_count": 21,
      "outputs": [
        {
          "output_type": "stream",
          "text": [
            "Accuracy for model trained on selected features dataset:\n"
          ],
          "name": "stdout"
        },
        {
          "output_type": "execute_result",
          "data": {
            "text/plain": [
              "0.9666666666666667"
            ]
          },
          "metadata": {
            "tags": []
          },
          "execution_count": 21
        }
      ]
    }
  ]
}