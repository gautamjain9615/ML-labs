{
 "cells": [
  {
   "cell_type": "markdown",
   "metadata": {
    "id": "c1bdHZpVR49x"
   },
   "source": [
    "Dependecies: Add your Dependencies here"
   ]
  },
  {
   "cell_type": "code",
   "execution_count": 1,
   "metadata": {
    "id": "ZAhH4iltSA-g"
   },
   "outputs": [],
   "source": [
    "import pandas as pd\n",
    "import numpy as np\n",
    "import seaborn as sns\n",
    "from matplotlib import pyplot as plt\n",
    "from matplotlib import rcParams\n",
    "rcParams['figure.figsize']= 10,10"
   ]
  },
  {
   "cell_type": "code",
   "execution_count": 2,
   "metadata": {
    "id": "5Ane03_rScpA"
   },
   "outputs": [
    {
     "data": {
      "text/html": [
       "<div>\n",
       "<style scoped>\n",
       "    .dataframe tbody tr th:only-of-type {\n",
       "        vertical-align: middle;\n",
       "    }\n",
       "\n",
       "    .dataframe tbody tr th {\n",
       "        vertical-align: top;\n",
       "    }\n",
       "\n",
       "    .dataframe thead th {\n",
       "        text-align: right;\n",
       "    }\n",
       "</style>\n",
       "<table border=\"1\" class=\"dataframe\">\n",
       "  <thead>\n",
       "    <tr style=\"text-align: right;\">\n",
       "      <th></th>\n",
       "      <th>Serious_Dlq_in_2yrs</th>\n",
       "      <th>Debt_Ratio</th>\n",
       "      <th>age</th>\n",
       "      <th>Number_Of_Time_30-59_Days_Past_Due</th>\n",
       "      <th>Number_Of_Time_60-89_Days_Past_Due</th>\n",
       "      <th>Number_Of_Times_90_Days_Late</th>\n",
       "      <th>Monthly_Income</th>\n",
       "      <th>Dependents</th>\n",
       "    </tr>\n",
       "  </thead>\n",
       "  <tbody>\n",
       "    <tr>\n",
       "      <th>0</th>\n",
       "      <td>0</td>\n",
       "      <td>454.000000</td>\n",
       "      <td>21</td>\n",
       "      <td>0</td>\n",
       "      <td>0</td>\n",
       "      <td>0</td>\n",
       "      <td>NaN</td>\n",
       "      <td>NaN</td>\n",
       "    </tr>\n",
       "    <tr>\n",
       "      <th>1</th>\n",
       "      <td>1</td>\n",
       "      <td>0.174377</td>\n",
       "      <td>22</td>\n",
       "      <td>1</td>\n",
       "      <td>1</td>\n",
       "      <td>1</td>\n",
       "      <td>280.0</td>\n",
       "      <td>0.0</td>\n",
       "    </tr>\n",
       "    <tr>\n",
       "      <th>2</th>\n",
       "      <td>0</td>\n",
       "      <td>0.000000</td>\n",
       "      <td>22</td>\n",
       "      <td>0</td>\n",
       "      <td>0</td>\n",
       "      <td>0</td>\n",
       "      <td>1500.0</td>\n",
       "      <td>0.0</td>\n",
       "    </tr>\n",
       "    <tr>\n",
       "      <th>3</th>\n",
       "      <td>1</td>\n",
       "      <td>0.000000</td>\n",
       "      <td>23</td>\n",
       "      <td>98</td>\n",
       "      <td>98</td>\n",
       "      <td>98</td>\n",
       "      <td>NaN</td>\n",
       "      <td>0.0</td>\n",
       "    </tr>\n",
       "    <tr>\n",
       "      <th>4</th>\n",
       "      <td>1</td>\n",
       "      <td>111.000000</td>\n",
       "      <td>23</td>\n",
       "      <td>0</td>\n",
       "      <td>1</td>\n",
       "      <td>2</td>\n",
       "      <td>NaN</td>\n",
       "      <td>0.0</td>\n",
       "    </tr>\n",
       "  </tbody>\n",
       "</table>\n",
       "</div>"
      ],
      "text/plain": [
       "   Serious_Dlq_in_2yrs  Debt_Ratio  age  Number_Of_Time_30-59_Days_Past_Due  \\\n",
       "0                    0  454.000000   21                                   0   \n",
       "1                    1    0.174377   22                                   1   \n",
       "2                    0    0.000000   22                                   0   \n",
       "3                    1    0.000000   23                                  98   \n",
       "4                    1  111.000000   23                                   0   \n",
       "\n",
       "   Number_Of_Time_60-89_Days_Past_Due  Number_Of_Times_90_Days_Late  \\\n",
       "0                                   0                             0   \n",
       "1                                   1                             1   \n",
       "2                                   0                             0   \n",
       "3                                  98                            98   \n",
       "4                                   1                             2   \n",
       "\n",
       "   Monthly_Income  Dependents  \n",
       "0             NaN         NaN  \n",
       "1           280.0         0.0  \n",
       "2          1500.0         0.0  \n",
       "3             NaN         0.0  \n",
       "4             NaN         0.0  "
      ]
     },
     "execution_count": 2,
     "metadata": {},
     "output_type": "execute_result"
    }
   ],
   "source": [
    "df = pd.read_csv(\"credit_scoring_sample.csv\")\n",
    "df.head()"
   ]
  },
  {
   "cell_type": "markdown",
   "metadata": {
    "id": "F5ZZ6LuuSvP-"
   },
   "source": [
    "Read the dataset from the CSV file"
   ]
  },
  {
   "cell_type": "code",
   "execution_count": 3,
   "metadata": {
    "colab": {
     "base_uri": "https://localhost:8080/",
     "height": 97
    },
    "executionInfo": {
     "elapsed": 1091,
     "status": "ok",
     "timestamp": 1616171550174,
     "user": {
      "displayName": "Azad Singh (P19CSE007)",
      "photoUrl": "https://lh3.googleusercontent.com/a-/AOh14GgdOnshe_tYgyU79pOLXxdxGnGyUrPZ-0QUF8_k=s64",
      "userId": "04985459276043978833"
     },
     "user_tz": -330
    },
    "id": "LWGOAbf7Sxiu",
    "outputId": "7a8f2864-7e66-421f-824c-dea7c2acee9f"
   },
   "outputs": [
    {
     "data": {
      "text/html": [
       "<div>\n",
       "<style scoped>\n",
       "    .dataframe tbody tr th:only-of-type {\n",
       "        vertical-align: middle;\n",
       "    }\n",
       "\n",
       "    .dataframe tbody tr th {\n",
       "        vertical-align: top;\n",
       "    }\n",
       "\n",
       "    .dataframe thead th {\n",
       "        text-align: right;\n",
       "    }\n",
       "</style>\n",
       "<table border=\"1\" class=\"dataframe\">\n",
       "  <thead>\n",
       "    <tr style=\"text-align: right;\">\n",
       "      <th></th>\n",
       "      <th>Serious_Dlq_in_2yrs</th>\n",
       "      <th>Debt_Ratio</th>\n",
       "      <th>age</th>\n",
       "      <th>Number_Of_Time_30-59_Days_Past_Due</th>\n",
       "      <th>Number_Of_Time_60-89_Days_Past_Due</th>\n",
       "      <th>Number_Of_Times_90_Days_Late</th>\n",
       "      <th>Monthly_Income</th>\n",
       "      <th>Dependents</th>\n",
       "    </tr>\n",
       "  </thead>\n",
       "  <tbody>\n",
       "    <tr>\n",
       "      <th>0</th>\n",
       "      <td>0</td>\n",
       "      <td>0.24</td>\n",
       "      <td>23</td>\n",
       "      <td>0</td>\n",
       "      <td>0</td>\n",
       "      <td>0</td>\n",
       "      <td>78</td>\n",
       "      <td>0</td>\n",
       "    </tr>\n",
       "  </tbody>\n",
       "</table>\n",
       "</div>"
      ],
      "text/plain": [
       "   Serious_Dlq_in_2yrs  Debt_Ratio  age  Number_Of_Time_30-59_Days_Past_Due  \\\n",
       "0                    0        0.24   23                                   0   \n",
       "\n",
       "   Number_Of_Time_60-89_Days_Past_Due  Number_Of_Times_90_Days_Late  \\\n",
       "0                                   0                             0   \n",
       "\n",
       "   Monthly_Income  Dependents  \n",
       "0              78           0  "
      ]
     },
     "execution_count": 3,
     "metadata": {},
     "output_type": "execute_result"
    }
   ],
   "source": [
    "dic = {'Serious_Dlq_in_2yrs':0,'Debt_Ratio':0.24,'age':23,'Number_Of_Time_30-59_Days_Past_Due':0,'Number_Of_Time_60-89_Days_Past_Due':0,'Number_Of_Times_90_Days_Late':0,'Monthly_Income':78,'Dependents':0}\n",
    "data = pd.DataFrame(dic,index=[0])\n",
    "data"
   ]
  },
  {
   "cell_type": "code",
   "execution_count": 4,
   "metadata": {
    "id": "n5gKW5Y3VHYi"
   },
   "outputs": [
    {
     "data": {
      "text/plain": [
       "<seaborn.axisgrid.FacetGrid at 0x2b922706850>"
      ]
     },
     "execution_count": 4,
     "metadata": {},
     "output_type": "execute_result"
    },
    {
     "data": {
      "image/png": "[encoded data removed]",
      "text/plain": [
       "<Figure size 360x360 with 1 Axes>"
      ]
     },
     "metadata": {
      "needs_background": "light"
     },
     "output_type": "display_data"
    }
   ],
   "source": [
    "# Plot Distrubution of the target variable\n",
    "sns.displot(df, x=\"Serious_Dlq_in_2yrs\",discrete=True,shrink = 0.1)"
   ]
  },
  {
   "cell_type": "code",
   "execution_count": 5,
   "metadata": {
    "id": "Y3bVn6c-Vk1C"
   },
   "outputs": [
    {
     "data": {
      "text/html": [
       "<div>\n",
       "<style scoped>\n",
       "    .dataframe tbody tr th:only-of-type {\n",
       "        vertical-align: middle;\n",
       "    }\n",
       "\n",
       "    .dataframe tbody tr th {\n",
       "        vertical-align: top;\n",
       "    }\n",
       "\n",
       "    .dataframe thead th {\n",
       "        text-align: right;\n",
       "    }\n",
       "</style>\n",
       "<table border=\"1\" class=\"dataframe\">\n",
       "  <thead>\n",
       "    <tr style=\"text-align: right;\">\n",
       "      <th></th>\n",
       "      <th>Serious_Dlq_in_2yrs</th>\n",
       "      <th>Debt_Ratio</th>\n",
       "      <th>age</th>\n",
       "      <th>Number_Of_Time_30-59_Days_Past_Due</th>\n",
       "      <th>Number_Of_Time_60-89_Days_Past_Due</th>\n",
       "      <th>Number_Of_Times_90_Days_Late</th>\n",
       "      <th>Monthly_Income</th>\n",
       "      <th>Dependents</th>\n",
       "    </tr>\n",
       "  </thead>\n",
       "  <tbody>\n",
       "    <tr>\n",
       "      <th>1</th>\n",
       "      <td>1</td>\n",
       "      <td>0.174377</td>\n",
       "      <td>22</td>\n",
       "      <td>1</td>\n",
       "      <td>1</td>\n",
       "      <td>1</td>\n",
       "      <td>280.000000</td>\n",
       "      <td>0.0</td>\n",
       "    </tr>\n",
       "    <tr>\n",
       "      <th>2</th>\n",
       "      <td>0</td>\n",
       "      <td>0.000000</td>\n",
       "      <td>22</td>\n",
       "      <td>0</td>\n",
       "      <td>0</td>\n",
       "      <td>0</td>\n",
       "      <td>1500.000000</td>\n",
       "      <td>0.0</td>\n",
       "    </tr>\n",
       "    <tr>\n",
       "      <th>3</th>\n",
       "      <td>1</td>\n",
       "      <td>0.000000</td>\n",
       "      <td>23</td>\n",
       "      <td>98</td>\n",
       "      <td>98</td>\n",
       "      <td>98</td>\n",
       "      <td>6182.567036</td>\n",
       "      <td>0.0</td>\n",
       "    </tr>\n",
       "    <tr>\n",
       "      <th>4</th>\n",
       "      <td>1</td>\n",
       "      <td>111.000000</td>\n",
       "      <td>23</td>\n",
       "      <td>0</td>\n",
       "      <td>1</td>\n",
       "      <td>2</td>\n",
       "      <td>6182.567036</td>\n",
       "      <td>0.0</td>\n",
       "    </tr>\n",
       "    <tr>\n",
       "      <th>5</th>\n",
       "      <td>1</td>\n",
       "      <td>0.021140</td>\n",
       "      <td>23</td>\n",
       "      <td>0</td>\n",
       "      <td>1</td>\n",
       "      <td>1</td>\n",
       "      <td>1560.000000</td>\n",
       "      <td>0.0</td>\n",
       "    </tr>\n",
       "    <tr>\n",
       "      <th>6</th>\n",
       "      <td>1</td>\n",
       "      <td>0.074324</td>\n",
       "      <td>23</td>\n",
       "      <td>1</td>\n",
       "      <td>0</td>\n",
       "      <td>0</td>\n",
       "      <td>1923.000000</td>\n",
       "      <td>0.0</td>\n",
       "    </tr>\n",
       "    <tr>\n",
       "      <th>7</th>\n",
       "      <td>0</td>\n",
       "      <td>0.068966</td>\n",
       "      <td>23</td>\n",
       "      <td>1</td>\n",
       "      <td>0</td>\n",
       "      <td>0</td>\n",
       "      <td>2000.000000</td>\n",
       "      <td>0.0</td>\n",
       "    </tr>\n",
       "    <tr>\n",
       "      <th>9</th>\n",
       "      <td>0</td>\n",
       "      <td>0.000000</td>\n",
       "      <td>23</td>\n",
       "      <td>0</td>\n",
       "      <td>0</td>\n",
       "      <td>0</td>\n",
       "      <td>820.000000</td>\n",
       "      <td>0.0</td>\n",
       "    </tr>\n",
       "    <tr>\n",
       "      <th>10</th>\n",
       "      <td>1</td>\n",
       "      <td>0.048207</td>\n",
       "      <td>24</td>\n",
       "      <td>0</td>\n",
       "      <td>0</td>\n",
       "      <td>0</td>\n",
       "      <td>1700.000000</td>\n",
       "      <td>0.0</td>\n",
       "    </tr>\n",
       "    <tr>\n",
       "      <th>11</th>\n",
       "      <td>1</td>\n",
       "      <td>0.227775</td>\n",
       "      <td>24</td>\n",
       "      <td>1</td>\n",
       "      <td>1</td>\n",
       "      <td>0</td>\n",
       "      <td>1900.000000</td>\n",
       "      <td>0.0</td>\n",
       "    </tr>\n",
       "    <tr>\n",
       "      <th>12</th>\n",
       "      <td>1</td>\n",
       "      <td>0.000000</td>\n",
       "      <td>24</td>\n",
       "      <td>98</td>\n",
       "      <td>98</td>\n",
       "      <td>98</td>\n",
       "      <td>6182.567036</td>\n",
       "      <td>0.0</td>\n",
       "    </tr>\n",
       "    <tr>\n",
       "      <th>13</th>\n",
       "      <td>0</td>\n",
       "      <td>0.008526</td>\n",
       "      <td>24</td>\n",
       "      <td>0</td>\n",
       "      <td>0</td>\n",
       "      <td>1</td>\n",
       "      <td>820.000000</td>\n",
       "      <td>0.0</td>\n",
       "    </tr>\n",
       "    <tr>\n",
       "      <th>14</th>\n",
       "      <td>0</td>\n",
       "      <td>1.313033</td>\n",
       "      <td>24</td>\n",
       "      <td>0</td>\n",
       "      <td>0</td>\n",
       "      <td>0</td>\n",
       "      <td>820.000000</td>\n",
       "      <td>0.0</td>\n",
       "    </tr>\n",
       "    <tr>\n",
       "      <th>15</th>\n",
       "      <td>0</td>\n",
       "      <td>1.000000</td>\n",
       "      <td>24</td>\n",
       "      <td>0</td>\n",
       "      <td>0</td>\n",
       "      <td>0</td>\n",
       "      <td>820.000000</td>\n",
       "      <td>0.0</td>\n",
       "    </tr>\n",
       "    <tr>\n",
       "      <th>16</th>\n",
       "      <td>0</td>\n",
       "      <td>0.199429</td>\n",
       "      <td>24</td>\n",
       "      <td>0</td>\n",
       "      <td>0</td>\n",
       "      <td>0</td>\n",
       "      <td>2100.000000</td>\n",
       "      <td>0.0</td>\n",
       "    </tr>\n",
       "    <tr>\n",
       "      <th>17</th>\n",
       "      <td>1</td>\n",
       "      <td>0.101093</td>\n",
       "      <td>25</td>\n",
       "      <td>0</td>\n",
       "      <td>0</td>\n",
       "      <td>0</td>\n",
       "      <td>1463.000000</td>\n",
       "      <td>1.0</td>\n",
       "    </tr>\n",
       "    <tr>\n",
       "      <th>18</th>\n",
       "      <td>1</td>\n",
       "      <td>0.270758</td>\n",
       "      <td>25</td>\n",
       "      <td>1</td>\n",
       "      <td>2</td>\n",
       "      <td>0</td>\n",
       "      <td>3600.000000</td>\n",
       "      <td>1.0</td>\n",
       "    </tr>\n",
       "    <tr>\n",
       "      <th>19</th>\n",
       "      <td>1</td>\n",
       "      <td>0.000000</td>\n",
       "      <td>25</td>\n",
       "      <td>0</td>\n",
       "      <td>0</td>\n",
       "      <td>0</td>\n",
       "      <td>6182.567036</td>\n",
       "      <td>1.0</td>\n",
       "    </tr>\n",
       "    <tr>\n",
       "      <th>20</th>\n",
       "      <td>1</td>\n",
       "      <td>0.000000</td>\n",
       "      <td>25</td>\n",
       "      <td>98</td>\n",
       "      <td>98</td>\n",
       "      <td>98</td>\n",
       "      <td>6182.567036</td>\n",
       "      <td>0.0</td>\n",
       "    </tr>\n",
       "    <tr>\n",
       "      <th>21</th>\n",
       "      <td>0</td>\n",
       "      <td>1.629108</td>\n",
       "      <td>25</td>\n",
       "      <td>0</td>\n",
       "      <td>0</td>\n",
       "      <td>0</td>\n",
       "      <td>425.000000</td>\n",
       "      <td>0.0</td>\n",
       "    </tr>\n",
       "  </tbody>\n",
       "</table>\n",
       "</div>"
      ],
      "text/plain": [
       "    Serious_Dlq_in_2yrs  Debt_Ratio  age  Number_Of_Time_30-59_Days_Past_Due  \\\n",
       "1                     1    0.174377   22                                   1   \n",
       "2                     0    0.000000   22                                   0   \n",
       "3                     1    0.000000   23                                  98   \n",
       "4                     1  111.000000   23                                   0   \n",
       "5                     1    0.021140   23                                   0   \n",
       "6                     1    0.074324   23                                   1   \n",
       "7                     0    0.068966   23                                   1   \n",
       "9                     0    0.000000   23                                   0   \n",
       "10                    1    0.048207   24                                   0   \n",
       "11                    1    0.227775   24                                   1   \n",
       "12                    1    0.000000   24                                  98   \n",
       "13                    0    0.008526   24                                   0   \n",
       "14                    0    1.313033   24                                   0   \n",
       "15                    0    1.000000   24                                   0   \n",
       "16                    0    0.199429   24                                   0   \n",
       "17                    1    0.101093   25                                   0   \n",
       "18                    1    0.270758   25                                   1   \n",
       "19                    1    0.000000   25                                   0   \n",
       "20                    1    0.000000   25                                  98   \n",
       "21                    0    1.629108   25                                   0   \n",
       "\n",
       "    Number_Of_Time_60-89_Days_Past_Due  Number_Of_Times_90_Days_Late  \\\n",
       "1                                    1                             1   \n",
       "2                                    0                             0   \n",
       "3                                   98                            98   \n",
       "4                                    1                             2   \n",
       "5                                    1                             1   \n",
       "6                                    0                             0   \n",
       "7                                    0                             0   \n",
       "9                                    0                             0   \n",
       "10                                   0                             0   \n",
       "11                                   1                             0   \n",
       "12                                  98                            98   \n",
       "13                                   0                             1   \n",
       "14                                   0                             0   \n",
       "15                                   0                             0   \n",
       "16                                   0                             0   \n",
       "17                                   0                             0   \n",
       "18                                   2                             0   \n",
       "19                                   0                             0   \n",
       "20                                  98                            98   \n",
       "21                                   0                             0   \n",
       "\n",
       "    Monthly_Income  Dependents  \n",
       "1       280.000000         0.0  \n",
       "2      1500.000000         0.0  \n",
       "3      6182.567036         0.0  \n",
       "4      6182.567036         0.0  \n",
       "5      1560.000000         0.0  \n",
       "6      1923.000000         0.0  \n",
       "7      2000.000000         0.0  \n",
       "9       820.000000         0.0  \n",
       "10     1700.000000         0.0  \n",
       "11     1900.000000         0.0  \n",
       "12     6182.567036         0.0  \n",
       "13      820.000000         0.0  \n",
       "14      820.000000         0.0  \n",
       "15      820.000000         0.0  \n",
       "16     2100.000000         0.0  \n",
       "17     1463.000000         1.0  \n",
       "18     3600.000000         1.0  \n",
       "19     6182.567036         1.0  \n",
       "20     6182.567036         0.0  \n",
       "21      425.000000         0.0  "
      ]
     },
     "execution_count": 5,
     "metadata": {},
     "output_type": "execute_result"
    }
   ],
   "source": [
    "# Handle the NaN values\n",
    "df[\"Monthly_Income\"].fillna(df[\"Monthly_Income\"].mean(), inplace=True)\n",
    "df.dropna(subset=[\"Dependents\"], inplace=True)\n",
    "# df[\"Dependents\"].fillna(df[\"Dependents\"].mean(), inplace=True)\n",
    "df.head(20)"
   ]
  },
  {
   "cell_type": "code",
   "execution_count": 6,
   "metadata": {
    "id": "gM817FetVsSO"
   },
   "outputs": [
    {
     "data": {
      "text/plain": [
       "array([[<AxesSubplot:title={'center':'Debt_Ratio'}>,\n",
       "        <AxesSubplot:title={'center':'age'}>,\n",
       "        <AxesSubplot:title={'center':'Number_Of_Time_30-59_Days_Past_Due'}>],\n",
       "       [<AxesSubplot:title={'center':'Number_Of_Time_60-89_Days_Past_Due'}>,\n",
       "        <AxesSubplot:title={'center':'Number_Of_Times_90_Days_Late'}>,\n",
       "        <AxesSubplot:title={'center':'Monthly_Income'}>],\n",
       "       [<AxesSubplot:title={'center':'Dependents'}>, <AxesSubplot:>,\n",
       "        <AxesSubplot:>]], dtype=object)"
      ]
     },
     "execution_count": 6,
     "metadata": {},
     "output_type": "execute_result"
    },
    {
     "data": {
      "image/png": "[encoded data removed]",
      "text/plain": [
       "<Figure size 720x720 with 9 Axes>"
      ]
     },
     "metadata": {
      "needs_background": "light"
     },
     "output_type": "display_data"
    }
   ],
   "source": [
    "# Visualize the distribution of data for every feature\n",
    "X = df.drop(\"Serious_Dlq_in_2yrs\", axis=1)\n",
    "X.hist()"
   ]
  },
  {
   "cell_type": "markdown",
   "metadata": {
    "id": "z8iur7tiWuwT"
   },
   "source": [
    "Train the Random Forest Classifier"
   ]
  },
  {
   "cell_type": "code",
   "execution_count": 7,
   "metadata": {
    "id": "jwijwtAVWwNq"
   },
   "outputs": [],
   "source": [
    "from sklearn.ensemble import RandomForestClassifier\n",
    "from sklearn.model_selection import StratifiedKFold\n",
    "from sklearn.model_selection import GridSearchCV, train_test_split"
   ]
  },
  {
   "cell_type": "code",
   "execution_count": 8,
   "metadata": {
    "id": "6HCU6WgdW9hP"
   },
   "outputs": [],
   "source": [
    "# seperate depedendent and independent variables from the dataset\n",
    "X = df.drop(\"Serious_Dlq_in_2yrs\", axis=1)\n",
    "y = df[\"Serious_Dlq_in_2yrs\"]"
   ]
  },
  {
   "cell_type": "code",
   "execution_count": 9,
   "metadata": {
    "id": "r20IBUNmXOKM"
   },
   "outputs": [
    {
     "data": {
      "text/plain": [
       "RandomForestClassifier(max_depth=5, max_features=2)"
      ]
     },
     "execution_count": 9,
     "metadata": {},
     "output_type": "execute_result"
    }
   ],
   "source": [
    "# define paramerts for the random forest\n",
    "parameters = {'max_features': [1, 2, 4], 'min_samples_leaf': [3, 5, 7, 9], 'max_depth': [5,10,15]}\n",
    "X_train, X_test, y_train, y_test = train_test_split(X, y, test_size=0.2)\n",
    "rf = RandomForestClassifier(n_estimators=100, max_features = 2, max_depth = 5)\n",
    "rf.fit(X_train, y_train)"
   ]
  },
  {
   "cell_type": "code",
   "execution_count": 10,
   "metadata": {
    "id": "JhQA2dzeXZpg"
   },
   "outputs": [
    {
     "data": {
      "text/plain": [
       "array([0.32653061, 0.8       , 0.77948718, 0.76410256, 0.75897436])"
      ]
     },
     "execution_count": 10,
     "metadata": {},
     "output_type": "execute_result"
    }
   ],
   "source": [
    "# perform cross validation\n",
    "from sklearn.model_selection import cross_val_score\n",
    "skf = StratifiedKFold(n_splits=5, shuffle=True, random_state=5)\n",
    "cross_val_score(rf, X, y, cv=5)"
   ]
  },
  {
   "cell_type": "code",
   "execution_count": 11,
   "metadata": {},
   "outputs": [],
   "source": [
    "from sklearn.metrics import roc_curve\n",
    "import matplotlib.pyplot as plt\n",
    "\n",
    "def plot_roc_curve(fpr, tpr):\n",
    "    \"\"\"\n",
    "    Plots a ROC curve given the false positve rate (fpr) and \n",
    "    true postive rate (tpr) of a classifier.\n",
    "    \"\"\"\n",
    "    # Plot ROC curve\n",
    "    plt.plot(fpr, tpr, color='orange', label='ROC')\n",
    "    # Plot line with no predictive power (baseline)\n",
    "    plt.plot([0, 1], [0, 1], color='darkblue', linestyle='--', label='Guessing')\n",
    "    # Customize the plot\n",
    "    plt.xlabel('False Positive Rate')\n",
    "    plt.ylabel('True Positive Rate')\n",
    "    plt.title('Receiver Operating Characteristic (ROC) Curve')\n",
    "    plt.legend()\n",
    "    plt.show()"
   ]
  },
  {
   "cell_type": "code",
   "execution_count": 12,
   "metadata": {},
   "outputs": [
    {
     "data": {
      "image/png": "[encoded data removed]",
      "text/plain": [
       "<Figure size 720x720 with 1 Axes>"
      ]
     },
     "metadata": {
      "needs_background": "light"
     },
     "output_type": "display_data"
    }
   ],
   "source": [
    "y_probs = rf.predict_proba(X_test)\n",
    "\n",
    "# Keep the probabilites of the positive class only\n",
    "y_probs = y_probs[:, 1]\n",
    "\n",
    "# Calculate fpr, tpr and thresholds\n",
    "fpr, tpr, thresholds = roc_curve(y_test, y_probs)\n",
    "plot_roc_curve(fpr, tpr)"
   ]
  },
  {
   "cell_type": "code",
   "execution_count": 13,
   "metadata": {},
   "outputs": [
    {
     "data": {
      "text/plain": [
       "0.8390714658320293"
      ]
     },
     "execution_count": 13,
     "metadata": {},
     "output_type": "execute_result"
    }
   ],
   "source": [
    "from sklearn.metrics import roc_auc_score\n",
    "roc_auc_score(y_test, y_probs)"
   ]
  },
  {
   "cell_type": "code",
   "execution_count": 14,
   "metadata": {
    "id": "FE7AZCemXrmh"
   },
   "outputs": [],
   "source": [
    "# perform grid search\n",
    "grid_search = GridSearchCV(rf, parameters, n_jobs=-1, scoring='roc_auc', cv=skf)\n",
    "grid_search.fit(X_train, y_train);"
   ]
  },
  {
   "cell_type": "code",
   "execution_count": 15,
   "metadata": {
    "id": "OQBsgN-7YBY8"
   },
   "outputs": [
    {
     "data": {
      "text/plain": [
       "{'max_depth': 5, 'max_features': 2, 'min_samples_leaf': 9}"
      ]
     },
     "execution_count": 15,
     "metadata": {},
     "output_type": "execute_result"
    }
   ],
   "source": [
    "#Get the best score from the grid search\n",
    "grid_search.best_params_"
   ]
  },
  {
   "cell_type": "code",
   "execution_count": 16,
   "metadata": {
    "id": "7Jaw-AA-YIv8"
   },
   "outputs": [
    {
     "data": {
      "text/plain": [
       "array([0.07601762, 0.11253915, 0.21682776, 0.16243615, 0.29916246,\n",
       "       0.11357711, 0.01943975])"
      ]
     },
     "execution_count": 16,
     "metadata": {},
     "output_type": "execute_result"
    }
   ],
   "source": [
    "# Find the feature which has the weakest impact in Random Forest Model\n",
    "rf.feature_importances_"
   ]
  },
  {
   "cell_type": "code",
   "execution_count": 17,
   "metadata": {},
   "outputs": [
    {
     "name": "stdout",
     "output_type": "stream",
     "text": [
      "Feature with weakest impact in Random Forest Model is Dependents\n"
     ]
    }
   ],
   "source": [
    "print(\"Feature with weakest impact in Random Forest Model is Dependents\")"
   ]
  },
  {
   "cell_type": "code",
   "execution_count": 18,
   "metadata": {
    "id": "QZuGyMe8YMDp"
   },
   "outputs": [],
   "source": [
    "# Perform bagging classification using decision trees as the base classifier"
   ]
  },
  {
   "cell_type": "code",
   "execution_count": 19,
   "metadata": {
    "id": "w_aJPspMYQI-"
   },
   "outputs": [],
   "source": [
    "from sklearn.ensemble import BaggingClassifier\n",
    "from sklearn.model_selection import cross_val_score\n",
    "from numpy import mean\n",
    "from numpy import std\n",
    "from sklearn.model_selection import RepeatedStratifiedKFold\n"
   ]
  },
  {
   "cell_type": "code",
   "execution_count": 20,
   "metadata": {
    "id": "q9JwYgWfYU_f"
   },
   "outputs": [],
   "source": [
    "# get a list of models to evaluate\n",
    "def get_models():\n",
    "    model = BaggingClassifier()\n",
    "    return model"
   ]
  },
  {
   "cell_type": "code",
   "execution_count": 21,
   "metadata": {
    "id": "98NB3pA8YuhJ"
   },
   "outputs": [],
   "source": [
    "# evaluate a given model using cross-validation\n",
    "def evaluate_model(model, X, y):\n",
    "    cv = RepeatedStratifiedKFold(n_splits=10, n_repeats=3, random_state=1)\n",
    "    scores = cross_val_score(model, X, y, scoring='accuracy', cv=cv, n_jobs=-1, error_score='raise')\n",
    "    return scores"
   ]
  },
  {
   "cell_type": "code",
   "execution_count": 22,
   "metadata": {
    "id": "QRZiG79HY3xr"
   },
   "outputs": [
    {
     "name": "stdout",
     "output_type": "stream",
     "text": [
      "Mean: 0.772, Standard Deviation: 0.041\n"
     ]
    }
   ],
   "source": [
    "# Summarize the performance by getting mean and standard deviation of scores\n",
    "model = get_models()\n",
    "scores = evaluate_model(model,X,y)\n",
    "print('Mean: %.3f, Standard Deviation: %.3f' % (mean(scores), std(scores)))"
   ]
  },
  {
   "cell_type": "code",
   "execution_count": 23,
   "metadata": {
    "id": "INeV_C2ZZFdD"
   },
   "outputs": [
    {
     "data": {
      "text/plain": [
       "<AxesSubplot:xlabel='Serious_Dlq_in_2yrs', ylabel='Number_Of_Time_30-59_Days_Past_Due'>"
      ]
     },
     "execution_count": 23,
     "metadata": {},
     "output_type": "execute_result"
    },
    {
     "data": {
      "image/png": "[encoded data removed]",
      "text/plain": [
       "<Figure size 720x720 with 1 Axes>"
      ]
     },
     "metadata": {
      "needs_background": "light"
     },
     "output_type": "display_data"
    }
   ],
   "source": [
    "# Plot the model performance for comparison using boxplot\n",
    "# df.boxplot(by ='', column =[''], grid = False)\n",
    "sns.boxplot(x = 'Serious_Dlq_in_2yrs', y = 'Number_Of_Time_30-59_Days_Past_Due', data = df)"
   ]
  }
 ],
 "metadata": {
  "colab": {
   "collapsed_sections": [],
   "name": "Lab_Excercise-3.ipynb",
   "provenance": []
  },
  "kernelspec": {
   "display_name": "Python 3",
   "language": "python",
   "name": "python3"
  },
  "language_info": {
   "codemirror_mode": {
    "name": "ipython",
    "version": 3
   },
   "file_extension": ".py",
   "mimetype": "text/x-python",
   "name": "python",
   "nbconvert_exporter": "python",
   "pygments_lexer": "ipython3",
   "version": "3.8.8"
  }
 },
 "nbformat": 4,
 "nbformat_minor": 1
}
