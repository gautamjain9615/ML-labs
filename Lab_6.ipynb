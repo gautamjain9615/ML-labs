{
  "nbformat": 4,
  "nbformat_minor": 0,
  "metadata": {
    "colab": {
      "name": "Lab_6.ipynb",
      "provenance": [],
      "collapsed_sections": []
    },
    "kernelspec": {
      "name": "python3",
      "display_name": "Python 3"
    },
    "language_info": {
      "name": "python"
    }
  },
  "cells": [
    {
      "cell_type": "code",
      "metadata": {
        "id": "Jr2whhfdcfyd"
      },
      "source": [
        "import pandas  as pd #Data manipulation\n",
        "import numpy as np #Data manipulation\n",
        "import matplotlib.pyplot as plt # Visualization\n",
        "import seaborn as sns #Visualization\n",
        "plt.rcParams['figure.figsize'] = [8,5]\n",
        "plt.rcParams['font.size'] =14\n",
        "plt.rcParams['font.weight']= 'bold'\n",
        "plt.style.use('seaborn-whitegrid')"
      ],
      "execution_count": 1,
      "outputs": []
    },
    {
      "cell_type": "code",
      "metadata": {
        "colab": {
          "base_uri": "https://localhost:8080/"
        },
        "id": "9lwBF-96qAyu",
        "outputId": "310374bb-99b0-4ba9-d95b-907a2d15bcdb"
      },
      "source": [
        "from google.colab import drive\n",
        "drive.mount('/content/drive')"
      ],
      "execution_count": 2,
      "outputs": [
        {
          "output_type": "stream",
          "text": [
            "Drive already mounted at /content/drive; to attempt to forcibly remount, call drive.mount(\"/content/drive\", force_remount=True).\n"
          ],
          "name": "stdout"
        }
      ]
    },
    {
      "cell_type": "code",
      "metadata": {
        "id": "33XN2m1-covv",
        "colab": {
          "base_uri": "https://localhost:8080/"
        },
        "outputId": "87633c7e-7197-48c8-bd48-74e1358db0d9"
      },
      "source": [
        "path = \"/content/drive/MyDrive/priject1/lab6/insurance.csv\"\n",
        "df = pd.read_csv(path)\n",
        "print('\\nNumber of rows and columns in the data set: ',df.shape)"
      ],
      "execution_count": 3,
      "outputs": [
        {
          "output_type": "stream",
          "text": [
            "\n",
            "Number of rows and columns in the data set:  (1338, 7)\n"
          ],
          "name": "stdout"
        }
      ]
    },
    {
      "cell_type": "code",
      "metadata": {
        "id": "r4i6UT1bcvR2",
        "colab": {
          "base_uri": "https://localhost:8080/",
          "height": 284
        },
        "outputId": "19959ef6-bac9-45b5-e987-62a40cdbb0d9"
      },
      "source": [
        "# desribe the dataset (Exploratory data analysis) \n",
        "df.describe()"
      ],
      "execution_count": 4,
      "outputs": [
        {
          "output_type": "execute_result",
          "data": {
            "text/html": [
              "<div>\n",
              "<style scoped>\n",
              "    .dataframe tbody tr th:only-of-type {\n",
              "        vertical-align: middle;\n",
              "    }\n",
              "\n",
              "    .dataframe tbody tr th {\n",
              "        vertical-align: top;\n",
              "    }\n",
              "\n",
              "    .dataframe thead th {\n",
              "        text-align: right;\n",
              "    }\n",
              "</style>\n",
              "<table border=\"1\" class=\"dataframe\">\n",
              "  <thead>\n",
              "    <tr style=\"text-align: right;\">\n",
              "      <th></th>\n",
              "      <th>age</th>\n",
              "      <th>bmi</th>\n",
              "      <th>children</th>\n",
              "      <th>charges</th>\n",
              "    </tr>\n",
              "  </thead>\n",
              "  <tbody>\n",
              "    <tr>\n",
              "      <th>count</th>\n",
              "      <td>1338.000000</td>\n",
              "      <td>1338.000000</td>\n",
              "      <td>1338.000000</td>\n",
              "      <td>1338.000000</td>\n",
              "    </tr>\n",
              "    <tr>\n",
              "      <th>mean</th>\n",
              "      <td>39.207025</td>\n",
              "      <td>30.663397</td>\n",
              "      <td>1.094918</td>\n",
              "      <td>13270.422265</td>\n",
              "    </tr>\n",
              "    <tr>\n",
              "      <th>std</th>\n",
              "      <td>14.049960</td>\n",
              "      <td>6.098187</td>\n",
              "      <td>1.205493</td>\n",
              "      <td>12110.011237</td>\n",
              "    </tr>\n",
              "    <tr>\n",
              "      <th>min</th>\n",
              "      <td>18.000000</td>\n",
              "      <td>15.960000</td>\n",
              "      <td>0.000000</td>\n",
              "      <td>1121.873900</td>\n",
              "    </tr>\n",
              "    <tr>\n",
              "      <th>25%</th>\n",
              "      <td>27.000000</td>\n",
              "      <td>26.296250</td>\n",
              "      <td>0.000000</td>\n",
              "      <td>4740.287150</td>\n",
              "    </tr>\n",
              "    <tr>\n",
              "      <th>50%</th>\n",
              "      <td>39.000000</td>\n",
              "      <td>30.400000</td>\n",
              "      <td>1.000000</td>\n",
              "      <td>9382.033000</td>\n",
              "    </tr>\n",
              "    <tr>\n",
              "      <th>75%</th>\n",
              "      <td>51.000000</td>\n",
              "      <td>34.693750</td>\n",
              "      <td>2.000000</td>\n",
              "      <td>16639.912515</td>\n",
              "    </tr>\n",
              "    <tr>\n",
              "      <th>max</th>\n",
              "      <td>64.000000</td>\n",
              "      <td>53.130000</td>\n",
              "      <td>5.000000</td>\n",
              "      <td>63770.428010</td>\n",
              "    </tr>\n",
              "  </tbody>\n",
              "</table>\n",
              "</div>"
            ],
            "text/plain": [
              "               age          bmi     children       charges\n",
              "count  1338.000000  1338.000000  1338.000000   1338.000000\n",
              "mean     39.207025    30.663397     1.094918  13270.422265\n",
              "std      14.049960     6.098187     1.205493  12110.011237\n",
              "min      18.000000    15.960000     0.000000   1121.873900\n",
              "25%      27.000000    26.296250     0.000000   4740.287150\n",
              "50%      39.000000    30.400000     1.000000   9382.033000\n",
              "75%      51.000000    34.693750     2.000000  16639.912515\n",
              "max      64.000000    53.130000     5.000000  63770.428010"
            ]
          },
          "metadata": {
            "tags": []
          },
          "execution_count": 4
        }
      ]
    },
    {
      "cell_type": "code",
      "metadata": {
        "id": "sEHP1yM9c6Xq",
        "colab": {
          "base_uri": "https://localhost:8080/"
        },
        "outputId": "bc15427e-9528-4b79-c3d4-1419393381fd"
      },
      "source": [
        "#Check for missing value\n",
        "df.isnull().sum()"
      ],
      "execution_count": 5,
      "outputs": [
        {
          "output_type": "execute_result",
          "data": {
            "text/plain": [
              "age         0\n",
              "sex         0\n",
              "bmi         0\n",
              "children    0\n",
              "smoker      0\n",
              "region      0\n",
              "charges     0\n",
              "dtype: int64"
            ]
          },
          "metadata": {
            "tags": []
          },
          "execution_count": 5
        }
      ]
    },
    {
      "cell_type": "code",
      "metadata": {
        "colab": {
          "base_uri": "https://localhost:8080/"
        },
        "id": "qYmEK62c-eSF",
        "outputId": "f1db8965-ae2c-4722-a232-4b0da3bcf073"
      },
      "source": [
        "df.loc[:, df.isnull().any()].columns"
      ],
      "execution_count": 6,
      "outputs": [
        {
          "output_type": "execute_result",
          "data": {
            "text/plain": [
              "Index([], dtype='object')"
            ]
          },
          "metadata": {
            "tags": []
          },
          "execution_count": 6
        }
      ]
    },
    {
      "cell_type": "code",
      "metadata": {
        "id": "ujkBs_gXdCb4",
        "colab": {
          "base_uri": "https://localhost:8080/",
          "height": 166
        },
        "outputId": "c2ec320f-21ba-4891-95ec-0e24d5cd4e89"
      },
      "source": [
        "# correlation plot\n",
        "corr_p = df.corr(method ='pearson') #'pearson’, ‘kendall’, ‘spearman'\n",
        "corr_p"
      ],
      "execution_count": 7,
      "outputs": [
        {
          "output_type": "execute_result",
          "data": {
            "text/html": [
              "<div>\n",
              "<style scoped>\n",
              "    .dataframe tbody tr th:only-of-type {\n",
              "        vertical-align: middle;\n",
              "    }\n",
              "\n",
              "    .dataframe tbody tr th {\n",
              "        vertical-align: top;\n",
              "    }\n",
              "\n",
              "    .dataframe thead th {\n",
              "        text-align: right;\n",
              "    }\n",
              "</style>\n",
              "<table border=\"1\" class=\"dataframe\">\n",
              "  <thead>\n",
              "    <tr style=\"text-align: right;\">\n",
              "      <th></th>\n",
              "      <th>age</th>\n",
              "      <th>bmi</th>\n",
              "      <th>children</th>\n",
              "      <th>charges</th>\n",
              "    </tr>\n",
              "  </thead>\n",
              "  <tbody>\n",
              "    <tr>\n",
              "      <th>age</th>\n",
              "      <td>1.000000</td>\n",
              "      <td>0.109272</td>\n",
              "      <td>0.042469</td>\n",
              "      <td>0.299008</td>\n",
              "    </tr>\n",
              "    <tr>\n",
              "      <th>bmi</th>\n",
              "      <td>0.109272</td>\n",
              "      <td>1.000000</td>\n",
              "      <td>0.012759</td>\n",
              "      <td>0.198341</td>\n",
              "    </tr>\n",
              "    <tr>\n",
              "      <th>children</th>\n",
              "      <td>0.042469</td>\n",
              "      <td>0.012759</td>\n",
              "      <td>1.000000</td>\n",
              "      <td>0.067998</td>\n",
              "    </tr>\n",
              "    <tr>\n",
              "      <th>charges</th>\n",
              "      <td>0.299008</td>\n",
              "      <td>0.198341</td>\n",
              "      <td>0.067998</td>\n",
              "      <td>1.000000</td>\n",
              "    </tr>\n",
              "  </tbody>\n",
              "</table>\n",
              "</div>"
            ],
            "text/plain": [
              "               age       bmi  children   charges\n",
              "age       1.000000  0.109272  0.042469  0.299008\n",
              "bmi       0.109272  1.000000  0.012759  0.198341\n",
              "children  0.042469  0.012759  1.000000  0.067998\n",
              "charges   0.299008  0.198341  0.067998  1.000000"
            ]
          },
          "metadata": {
            "tags": []
          },
          "execution_count": 7
        }
      ]
    },
    {
      "cell_type": "code",
      "metadata": {
        "colab": {
          "base_uri": "https://localhost:8080/",
          "height": 551
        },
        "id": "PvuWai8a-pqV",
        "outputId": "95fa2da2-fe9c-42b3-a9c1-0c6300883d19"
      },
      "source": [
        "mask = np.triu(np.ones_like(corr_p, dtype=bool))\n",
        "f, ax = plt.subplots(figsize=(11, 9))\n",
        "cmap = sns.diverging_palette(230, 20, as_cmap=True)\n",
        "sns.heatmap(corr_p, mask=mask, cmap=cmap, vmax=.3, center=0,square=True, linewidths=.5, cbar_kws={\"shrink\": .5})"
      ],
      "execution_count": 8,
      "outputs": [
        {
          "output_type": "execute_result",
          "data": {
            "text/plain": [
              "<matplotlib.axes._subplots.AxesSubplot at 0x7f465495e0d0>"
            ]
          },
          "metadata": {
            "tags": []
          },
          "execution_count": 8
        },
        {
          "output_type": "display_data",
          "data": {
            "image/png": "[encoded data removed]",
            "text/plain": [
              "<Figure size 792x648 with 2 Axes>"
            ]
          },
          "metadata": {
            "tags": [],
            "needs_background": "light"
          }
        }
      ]
    },
    {
      "cell_type": "code",
      "metadata": {
        "colab": {
          "base_uri": "https://localhost:8080/",
          "height": 362
        },
        "id": "XrDVrGasdGJW",
        "outputId": "d2b193d2-78a8-418a-8c94-f4755f027386"
      },
      "source": [
        "#Plot the distribution of the dependent variable\n",
        "f= plt.figure(figsize=(8,5))\n",
        "sns.histplot(df['charges'])\n",
        "plt.title('Distribution of insurance charges')"
      ],
      "execution_count": 9,
      "outputs": [
        {
          "output_type": "execute_result",
          "data": {
            "text/plain": [
              "Text(0.5, 1.0, 'Distribution of insurance charges')"
            ]
          },
          "metadata": {
            "tags": []
          },
          "execution_count": 9
        },
        {
          "output_type": "display_data",
          "data": {
            "image/png": "[encoded data removed]",
            "text/plain": [
              "<Figure size 576x360 with 1 Axes>"
            ]
          },
          "metadata": {
            "tags": [],
            "needs_background": "light"
          }
        }
      ]
    },
    {
      "cell_type": "code",
      "metadata": {
        "colab": {
          "base_uri": "https://localhost:8080/",
          "height": 421
        },
        "id": "2C010Cv1_Otn",
        "outputId": "d927d7ea-cc92-4292-c7b8-2a78c214af2e"
      },
      "source": [
        "f= plt.figure(figsize=(15,5))\n",
        "log_resp = np.log(df['charges'])\n",
        "sns.displot(log_resp)\n",
        "plt.title('Distribution of insurance charges in $log$ sacle')"
      ],
      "execution_count": 10,
      "outputs": [
        {
          "output_type": "execute_result",
          "data": {
            "text/plain": [
              "Text(0.5, 1.0, 'Distribution of insurance charges in $log$ sacle')"
            ]
          },
          "metadata": {
            "tags": []
          },
          "execution_count": 10
        },
        {
          "output_type": "display_data",
          "data": {
            "text/plain": [
              "<Figure size 1080x360 with 0 Axes>"
            ]
          },
          "metadata": {
            "tags": []
          }
        },
        {
          "output_type": "display_data",
          "data": {
            "image/png": "[encoded data removed]",
            "text/plain": [
              "<Figure size 360x360 with 1 Axes>"
            ]
          },
          "metadata": {
            "tags": [],
            "needs_background": "light"
          }
        }
      ]
    },
    {
      "cell_type": "markdown",
      "metadata": {
        "id": "lTs39ChfehGj"
      },
      "source": [
        "#Convert categorical data into numbers\n",
        "\n",
        "\n",
        "*   Label Enocding\n",
        "*   One hot Encoding\n",
        "\n",
        "\n",
        "#Lable Encoding\n",
        "Label encoding refers to transforming the word labels into numerical form so that the algorithms can understand how to operate on them.\n",
        "\n",
        "#One hot Encoding\n",
        "A One hot encoding is a representation of categorical variable as binary vectors.It allows the representation of categorical data to be \n",
        "more expresive. This first requires that the categorical values be mapped to integer values, that is label encoding. Then, each integer \n",
        "value is represented as a binary vector that is all zero values except the index of the integer, which is marked with a 1.\n",
        "\n",
        "You may take help of pandas get_dummies function for this. "
      ]
    },
    {
      "cell_type": "code",
      "metadata": {
        "colab": {
          "base_uri": "https://localhost:8080/"
        },
        "id": "_7nVPiZiXNaE",
        "outputId": "e404c54f-8db7-47e4-8a04-3004929457b0"
      },
      "source": [
        "df.dtypes"
      ],
      "execution_count": 11,
      "outputs": [
        {
          "output_type": "execute_result",
          "data": {
            "text/plain": [
              "age           int64\n",
              "sex          object\n",
              "bmi         float64\n",
              "children      int64\n",
              "smoker       object\n",
              "region       object\n",
              "charges     float64\n",
              "dtype: object"
            ]
          },
          "metadata": {
            "tags": []
          },
          "execution_count": 11
        }
      ]
    },
    {
      "cell_type": "code",
      "metadata": {
        "id": "we0pKd5IXnWF"
      },
      "source": [
        "df[\"sex\"] = df[\"sex\"].astype('category')\n",
        "df[\"sex\"] = df[\"sex\"].cat.codes\n",
        "df[\"smoker\"] = df[\"smoker\"].astype('category')\n",
        "df[\"smoker\"] = df[\"smoker\"].cat.codes\n",
        "df[\"region\"] = df[\"region\"].astype('category')\n",
        "df[\"region\"] = df[\"region\"].cat.codes"
      ],
      "execution_count": 12,
      "outputs": []
    },
    {
      "cell_type": "code",
      "metadata": {
        "id": "GHZwxEF1ZRCW"
      },
      "source": [
        "X = df.drop(\"charges\", axis=1)\n",
        "y = df[\"charges\"]"
      ],
      "execution_count": 13,
      "outputs": []
    },
    {
      "cell_type": "code",
      "metadata": {
        "id": "inaAwUhWhIrX"
      },
      "source": [
        "#Train Test split\n",
        "from sklearn.model_selection import train_test_split\n",
        "X_train, X_test, y_train, y_test = train_test_split(X, y, test_size=0.3)"
      ],
      "execution_count": 14,
      "outputs": []
    },
    {
      "cell_type": "markdown",
      "metadata": {
        "id": "DDDSKwyShSHB"
      },
      "source": [
        "#Model building"
      ]
    },
    {
      "cell_type": "code",
      "metadata": {
        "id": "P8I4E8_53Q49"
      },
      "source": [
        "# Step 1: add x0 =1 to dataset\n",
        "X_train.insert(0, 'x0', 1)"
      ],
      "execution_count": 15,
      "outputs": []
    },
    {
      "cell_type": "code",
      "metadata": {
        "id": "XP2h4IYdhTZn",
        "colab": {
          "base_uri": "https://localhost:8080/"
        },
        "outputId": "b4c8ead8-849f-4ed3-a995-ded13d15dcbd"
      },
      "source": [
        "# Step2: build model\n",
        "x0 = X_train['x0'].values\n",
        "age = X_train['age'].values\n",
        "sex = X_train['sex'].values\n",
        "bmi = X_train['bmi'].values\n",
        "children = X_train['children'].values\n",
        "smoker = X_train['smoker'].values\n",
        "region = X_train['region'].values\n",
        "charges = y_train.values\n",
        "\n",
        "\n",
        "# a = len(age)\n",
        "# x0 = np.ones(a)\n",
        "X_lr = np.array([x0, age, sex, bmi, children, smoker, region]).T\n",
        "B = np.array([0, 0, 0, 0, 0, 0, 0])\n",
        "Y_lr = np.array(charges)\n",
        "alpha = 0.0001\n",
        "\n",
        "def cost_function(X, Y, B):\n",
        "    m = len(Y)\n",
        "    J = np.sum((X.dot(B) - Y) ** 2)/(2 * m)\n",
        "    return J\n",
        "\n",
        "def gradient_descent(X, Y, B, alpha, iterations):\n",
        "    cost_history = [0] * iterations\n",
        "    m = len(Y)\n",
        "    for iteration in range(iterations):\n",
        "        h = X.dot(B)\n",
        "        loss = h - Y\n",
        "        gradient = X.T.dot(loss) / m\n",
        "        B = B - alpha * gradient\n",
        "        cost = cost_function(X, Y, B)\n",
        "        cost_history[iteration] = cost\n",
        "    return B, cost_history\n",
        "\n",
        "newB, cost_history = gradient_descent(X_lr, Y_lr, B, alpha, 2000000)\n",
        "\n",
        "# The parameters for linear regression model\n",
        "print(newB)"
      ],
      "execution_count": 16,
      "outputs": [
        {
          "output_type": "stream",
          "text": [
            "[-11274.40400039    265.04685197    -99.30813341    311.7515371\n",
            "    482.02087123  23540.99012536   -442.52816918]\n"
          ],
          "name": "stdout"
        }
      ]
    },
    {
      "cell_type": "code",
      "metadata": {
        "id": "LpcoN-RRha2l",
        "colab": {
          "base_uri": "https://localhost:8080/"
        },
        "outputId": "61f8dca5-987c-4879-e55e-8d38db988085"
      },
      "source": [
        "# Scikit Learn module\n",
        "from sklearn.linear_model import LinearRegression\n",
        "model = LinearRegression()\n",
        "model.fit(X_train, y_train)\n",
        "\n",
        "#Parameter\n",
        "print(model.coef_)"
      ],
      "execution_count": 17,
      "outputs": [
        {
          "output_type": "stream",
          "text": [
            "[    0.           265.19883686   -97.33773376   312.49157945\n",
            "   482.60579911 23542.23134407  -441.91221621]\n"
          ],
          "name": "stdout"
        }
      ]
    },
    {
      "cell_type": "code",
      "metadata": {
        "colab": {
          "base_uri": "https://localhost:8080/",
          "height": 254
        },
        "id": "-Ty5QjnD1PCZ",
        "outputId": "155af6fc-9966-4b6a-c99c-817d9695db11"
      },
      "source": [
        "data = {'Built_model':newB,\n",
        "        'SKlearn_model':model.coef_}\n",
        "df1 = pd.DataFrame(data)\n",
        "df1"
      ],
      "execution_count": 18,
      "outputs": [
        {
          "output_type": "execute_result",
          "data": {
            "text/html": [
              "<div>\n",
              "<style scoped>\n",
              "    .dataframe tbody tr th:only-of-type {\n",
              "        vertical-align: middle;\n",
              "    }\n",
              "\n",
              "    .dataframe tbody tr th {\n",
              "        vertical-align: top;\n",
              "    }\n",
              "\n",
              "    .dataframe thead th {\n",
              "        text-align: right;\n",
              "    }\n",
              "</style>\n",
              "<table border=\"1\" class=\"dataframe\">\n",
              "  <thead>\n",
              "    <tr style=\"text-align: right;\">\n",
              "      <th></th>\n",
              "      <th>Built_model</th>\n",
              "      <th>SKlearn_model</th>\n",
              "    </tr>\n",
              "  </thead>\n",
              "  <tbody>\n",
              "    <tr>\n",
              "      <th>0</th>\n",
              "      <td>-11274.404000</td>\n",
              "      <td>0.000000</td>\n",
              "    </tr>\n",
              "    <tr>\n",
              "      <th>1</th>\n",
              "      <td>265.046852</td>\n",
              "      <td>265.198837</td>\n",
              "    </tr>\n",
              "    <tr>\n",
              "      <th>2</th>\n",
              "      <td>-99.308133</td>\n",
              "      <td>-97.337734</td>\n",
              "    </tr>\n",
              "    <tr>\n",
              "      <th>3</th>\n",
              "      <td>311.751537</td>\n",
              "      <td>312.491579</td>\n",
              "    </tr>\n",
              "    <tr>\n",
              "      <th>4</th>\n",
              "      <td>482.020871</td>\n",
              "      <td>482.605799</td>\n",
              "    </tr>\n",
              "    <tr>\n",
              "      <th>5</th>\n",
              "      <td>23540.990125</td>\n",
              "      <td>23542.231344</td>\n",
              "    </tr>\n",
              "    <tr>\n",
              "      <th>6</th>\n",
              "      <td>-442.528169</td>\n",
              "      <td>-441.912216</td>\n",
              "    </tr>\n",
              "  </tbody>\n",
              "</table>\n",
              "</div>"
            ],
            "text/plain": [
              "    Built_model  SKlearn_model\n",
              "0 -11274.404000       0.000000\n",
              "1    265.046852     265.198837\n",
              "2    -99.308133     -97.337734\n",
              "3    311.751537     312.491579\n",
              "4    482.020871     482.605799\n",
              "5  23540.990125   23542.231344\n",
              "6   -442.528169    -441.912216"
            ]
          },
          "metadata": {
            "tags": []
          },
          "execution_count": 18
        }
      ]
    },
    {
      "cell_type": "markdown",
      "metadata": {
        "id": "dBMAQ_Pjhr-f"
      },
      "source": [
        "#Model evaluation"
      ]
    },
    {
      "cell_type": "code",
      "metadata": {
        "id": "dty1nWyTwpdR"
      },
      "source": [
        "X_test.insert(0, 'x0', 1)"
      ],
      "execution_count": 19,
      "outputs": []
    },
    {
      "cell_type": "code",
      "metadata": {
        "id": "N5uc1Oj4h4dr"
      },
      "source": [
        "# prediction\n",
        "x01 = X_test['x0'].values\n",
        "age1 = X_test['age'].values\n",
        "sex1 = X_test['sex'].values\n",
        "bmi1 = X_test['bmi'].values\n",
        "children1 = X_test['children'].values\n",
        "smoker1 = X_test['smoker'].values\n",
        "region1 = X_test['region'].values\n",
        "charges1 = y_test.values\n",
        "\n",
        "X_lr1 = np.array([x01, age1, sex1, bmi1, children1, smoker1, region1]).T\n",
        "y_lr1 = np.array(charges1)\n",
        "\n",
        "y_pred = X_lr1.dot(newB) \n",
        "\n",
        "#Evaluvation: MSE (Write your MSE equation from scratch)\n",
        "\n",
        "def rmse(Y, Y_pred):\n",
        "    rmse = np.sqrt(sum((Y - Y_pred) ** 2) / len(Y))\n",
        "    return rmse\n",
        "\n",
        "J_mse = rmse(y_lr1, y_pred)"
      ],
      "execution_count": 20,
      "outputs": []
    },
    {
      "cell_type": "code",
      "metadata": {
        "id": "E69D8N25h-S7",
        "colab": {
          "base_uri": "https://localhost:8080/"
        },
        "outputId": "03eb0516-e6ac-4389-9ee2-c0b0eec6fa9b"
      },
      "source": [
        "print('The Mean Square Error(MSE) or J(theta) is: ',J_mse)"
      ],
      "execution_count": 21,
      "outputs": [
        {
          "output_type": "stream",
          "text": [
            "The Mean Square Error(MSE) or J(theta) is:  5961.015504073384\n"
          ],
          "name": "stdout"
        }
      ]
    },
    {
      "cell_type": "code",
      "metadata": {
        "id": "0ozQ7YGYiC2W"
      },
      "source": [
        "# sklearn regression module\n",
        "y_pred_sk = model.predict(X_test)\n",
        "\n",
        "#Evaluvation: MSE\n",
        "from sklearn.metrics import mean_squared_error\n",
        "J_mse_sk = np.sqrt(mean_squared_error(y_test, y_pred_sk))"
      ],
      "execution_count": 22,
      "outputs": []
    },
    {
      "cell_type": "code",
      "metadata": {
        "id": "sAJspQREiLWU",
        "colab": {
          "base_uri": "https://localhost:8080/"
        },
        "outputId": "4e03eda6-be86-4796-9697-852c82836240"
      },
      "source": [
        "print('The Mean Square Error(MSE) or J(theta) is: ',J_mse_sk)"
      ],
      "execution_count": 23,
      "outputs": [
        {
          "output_type": "stream",
          "text": [
            "The Mean Square Error(MSE) or J(theta) is:  5960.724927961925\n"
          ],
          "name": "stdout"
        }
      ]
    },
    {
      "cell_type": "code",
      "metadata": {
        "colab": {
          "base_uri": "https://localhost:8080/",
          "height": 1000
        },
        "id": "CAkj69NF6BSv",
        "outputId": "ceda4c4c-0542-4596-d6f3-15938070b834"
      },
      "source": [
        "# Check for Linearity\n",
        "plt.figure(figsize=(10,20))\n",
        "plt.scatter(y_test, y_pred, c='crimson')\n",
        "plt.yscale('log')\n",
        "plt.xscale('log')\n",
        "\n",
        "p1 = max(max(y_pred), max(y_test))\n",
        "p2 = min(min(y_pred), min(y_test))\n",
        "plt.plot([p1, p2], [p1, p2], 'b-')\n",
        "plt.xlabel('True Values', fontsize=15)\n",
        "plt.ylabel('Predictions', fontsize=15)\n",
        "plt.axis('equal')\n",
        "plt.title('Plot for actual and predicred values using $built$ model')\n",
        "plt.show()"
      ],
      "execution_count": 24,
      "outputs": [
        {
          "output_type": "display_data",
          "data": {
            "image/png": "[encoded data removed]",
            "text/plain": [
              "<Figure size 720x1440 with 1 Axes>"
            ]
          },
          "metadata": {
            "tags": [],
            "needs_background": "light"
          }
        }
      ]
    },
    {
      "cell_type": "code",
      "metadata": {
        "colab": {
          "base_uri": "https://localhost:8080/",
          "height": 1000
        },
        "id": "gzUUUqeH6PCU",
        "outputId": "d6f493c5-7c0d-4dd4-d65b-1ddc3c72cf14"
      },
      "source": [
        "plt.figure(figsize=(10,20))\n",
        "plt.scatter(y_test, y_pred_sk, c='crimson')\n",
        "plt.yscale('log')\n",
        "plt.xscale('log')\n",
        "\n",
        "p1 = max(max(y_pred_sk), max(y_test))\n",
        "p2 = min(min(y_pred_sk), min(y_test))\n",
        "plt.plot([p1, p2], [p1, p2], 'b-')\n",
        "plt.xlabel('True Values', fontsize=15)\n",
        "plt.ylabel('Predictions', fontsize=15)\n",
        "plt.axis('equal')\n",
        "plt.title('Plot for actual and predicred values using $SKlearn$ model')\n",
        "plt.show()"
      ],
      "execution_count": 25,
      "outputs": [
        {
          "output_type": "display_data",
          "data": {
            "image/png": "[encoded data removed]",
            "text/plain": [
              "<Figure size 720x1440 with 1 Axes>"
            ]
          },
          "metadata": {
            "tags": [],
            "needs_background": "light"
          }
        }
      ]
    }
  ]
}