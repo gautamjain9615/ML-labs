{
  "nbformat": 4,
  "nbformat_minor": 0,
  "metadata": {
    "colab": {
      "name": "lab7_q1.ipynb",
      "provenance": [],
      "collapsed_sections": []
    },
    "kernelspec": {
      "name": "python3",
      "display_name": "Python 3"
    },
    "language_info": {
      "name": "python"
    }
  },
  "cells": [
    {
      "cell_type": "code",
      "metadata": {
        "id": "_FAQFuSs1-Do"
      },
      "source": [
        "import pandas as pd\n",
        "import numpy as np"
      ],
      "execution_count": null,
      "outputs": []
    },
    {
      "cell_type": "code",
      "metadata": {
        "id": "0SZMsTeYzfjC",
        "colab": {
          "base_uri": "https://localhost:8080/"
        },
        "outputId": "910e701c-29ff-42f7-becf-30ecfd34f532"
      },
      "source": [
        "from google.colab import drive\n",
        "drive.mount('/content/drive')"
      ],
      "execution_count": null,
      "outputs": [
        {
          "output_type": "stream",
          "text": [
            "Drive already mounted at /content/drive; to attempt to forcibly remount, call drive.mount(\"/content/drive\", force_remount=True).\n"
          ],
          "name": "stdout"
        }
      ]
    },
    {
      "cell_type": "code",
      "metadata": {
        "colab": {
          "base_uri": "https://localhost:8080/"
        },
        "id": "9KxMlW912ETy",
        "outputId": "473b7d2a-b41a-44cf-88a0-706f30291977"
      },
      "source": [
        "path = \"/content/drive/MyDrive/priject1/lab7/wheat-seeds.csv\"\n",
        "df = pd.read_csv(path)\n",
        "print('\\nNumber of rows and columns in the data set: ',df.shape)"
      ],
      "execution_count": null,
      "outputs": [
        {
          "output_type": "stream",
          "text": [
            "\n",
            "Number of rows and columns in the data set:  (210, 8)\n"
          ],
          "name": "stdout"
        }
      ]
    },
    {
      "cell_type": "code",
      "metadata": {
        "colab": {
          "base_uri": "https://localhost:8080/",
          "height": 204
        },
        "id": "C9OJvRB42SI2",
        "outputId": "8faf37f2-9457-4bf5-d0fe-d547374a80fc"
      },
      "source": [
        "df.head()"
      ],
      "execution_count": null,
      "outputs": [
        {
          "output_type": "execute_result",
          "data": {
            "text/html": [
              "<div>\n",
              "<style scoped>\n",
              "    .dataframe tbody tr th:only-of-type {\n",
              "        vertical-align: middle;\n",
              "    }\n",
              "\n",
              "    .dataframe tbody tr th {\n",
              "        vertical-align: top;\n",
              "    }\n",
              "\n",
              "    .dataframe thead th {\n",
              "        text-align: right;\n",
              "    }\n",
              "</style>\n",
              "<table border=\"1\" class=\"dataframe\">\n",
              "  <thead>\n",
              "    <tr style=\"text-align: right;\">\n",
              "      <th></th>\n",
              "      <th>f1</th>\n",
              "      <th>f2</th>\n",
              "      <th>f3</th>\n",
              "      <th>f4</th>\n",
              "      <th>f5</th>\n",
              "      <th>f6</th>\n",
              "      <th>f7</th>\n",
              "      <th>f8</th>\n",
              "    </tr>\n",
              "  </thead>\n",
              "  <tbody>\n",
              "    <tr>\n",
              "      <th>0</th>\n",
              "      <td>15.26</td>\n",
              "      <td>14.84</td>\n",
              "      <td>0.8710</td>\n",
              "      <td>5.763</td>\n",
              "      <td>3.312</td>\n",
              "      <td>2.221</td>\n",
              "      <td>5.220</td>\n",
              "      <td>1</td>\n",
              "    </tr>\n",
              "    <tr>\n",
              "      <th>1</th>\n",
              "      <td>14.88</td>\n",
              "      <td>14.57</td>\n",
              "      <td>0.8811</td>\n",
              "      <td>5.554</td>\n",
              "      <td>3.333</td>\n",
              "      <td>1.018</td>\n",
              "      <td>4.956</td>\n",
              "      <td>1</td>\n",
              "    </tr>\n",
              "    <tr>\n",
              "      <th>2</th>\n",
              "      <td>14.29</td>\n",
              "      <td>14.09</td>\n",
              "      <td>0.9050</td>\n",
              "      <td>5.291</td>\n",
              "      <td>3.337</td>\n",
              "      <td>2.699</td>\n",
              "      <td>4.825</td>\n",
              "      <td>1</td>\n",
              "    </tr>\n",
              "    <tr>\n",
              "      <th>3</th>\n",
              "      <td>13.84</td>\n",
              "      <td>13.94</td>\n",
              "      <td>0.8955</td>\n",
              "      <td>5.324</td>\n",
              "      <td>3.379</td>\n",
              "      <td>2.259</td>\n",
              "      <td>4.805</td>\n",
              "      <td>1</td>\n",
              "    </tr>\n",
              "    <tr>\n",
              "      <th>4</th>\n",
              "      <td>16.14</td>\n",
              "      <td>14.99</td>\n",
              "      <td>0.9034</td>\n",
              "      <td>5.658</td>\n",
              "      <td>3.562</td>\n",
              "      <td>1.355</td>\n",
              "      <td>5.175</td>\n",
              "      <td>1</td>\n",
              "    </tr>\n",
              "  </tbody>\n",
              "</table>\n",
              "</div>"
            ],
            "text/plain": [
              "      f1     f2      f3     f4     f5     f6     f7  f8\n",
              "0  15.26  14.84  0.8710  5.763  3.312  2.221  5.220   1\n",
              "1  14.88  14.57  0.8811  5.554  3.333  1.018  4.956   1\n",
              "2  14.29  14.09  0.9050  5.291  3.337  2.699  4.825   1\n",
              "3  13.84  13.94  0.8955  5.324  3.379  2.259  4.805   1\n",
              "4  16.14  14.99  0.9034  5.658  3.562  1.355  5.175   1"
            ]
          },
          "metadata": {
            "tags": []
          },
          "execution_count": 4
        }
      ]
    },
    {
      "cell_type": "code",
      "metadata": {
        "id": "2zcQpCid2T9L"
      },
      "source": [
        "X = df.drop(\"f8\", axis=1)\n",
        "y = df[\"f8\"]"
      ],
      "execution_count": null,
      "outputs": []
    },
    {
      "cell_type": "code",
      "metadata": {
        "id": "iVVnvogs4KjD"
      },
      "source": [
        "from sklearn.model_selection import train_test_split\n",
        "X_train, X_test, y_train, y_test = train_test_split(X, y, test_size=0.2, random_state=42)"
      ],
      "execution_count": null,
      "outputs": []
    },
    {
      "cell_type": "code",
      "metadata": {
        "id": "Lyz0AANNaU6-"
      },
      "source": [
        "import numpy as np\n",
        "import matplotlib.pyplot as plt\n",
        "\n",
        "class Neuralnet:\n",
        "    def __init__(self, neurons):\n",
        "        self.layers = len(neurons)\n",
        "        self.rate = .01\n",
        "        self.inputs = []\n",
        "        self.outputs = []\n",
        "        self.errors = []\n",
        "        self.weights = []\n",
        "        self.biases = []\n",
        "\n",
        "        for layer in range(self.layers):\n",
        "            self.inputs.append(np.empty(neurons[layer]))\n",
        "            self.outputs.append(np.empty(neurons[layer]))\n",
        "            self.errors.append(np.empty(neurons[layer]))\n",
        "\n",
        "        for layer in range(self.layers - 1):\n",
        "            self.weights.append(np.random.normal(\n",
        "                scale=1.0/np.sqrt(neurons[layer]),\n",
        "                size=[neurons[layer], neurons[layer + 1]]\n",
        "            ))\n",
        "            self.biases.append(np.random.normal(\n",
        "                scale=1.0/np.sqrt(neurons[layer]),\n",
        "                size=neurons[layer + 1]\n",
        "            ))\n",
        "\n",
        "    def feedforward(self, inputs):\n",
        "        self.inputs[0] = inputs\n",
        "        for layer in range(self.layers - 1):\n",
        "            self.outputs[layer] = np.tanh(self.inputs[layer])\n",
        "            self.inputs[layer + 1] = np.dot(self.weights[layer].T, self.outputs[layer]) + self.biases[layer]\n",
        "        self.outputs[-1] = np.tanh(self.inputs[-1])\n",
        "\n",
        "    def backpropagate(self, targets):\n",
        "        self.errors[-1] = self.outputs[-1] - targets\n",
        "        for layer in reversed(range(self.layers - 1)):\n",
        "            gradient = 1 - self.outputs[layer] * self.outputs[layer]\n",
        "            self.errors[layer] = gradient * np.dot(self.weights[layer], self.errors[layer + 1])\n",
        "        for layer in range(self.layers - 1):\n",
        "            self.weights[layer] -= self.rate * np.outer(self.outputs[layer], self.errors[layer + 1])\n",
        "            self.biases[layer] -= self.rate * self.errors[layer + 1]\n",
        "\n"
      ],
      "execution_count": null,
      "outputs": []
    },
    {
      "cell_type": "code",
      "metadata": {
        "id": "g9k1sWPPeTFq"
      },
      "source": [
        "\n",
        "net = Neuralnet([7 * 1, 200, 3])\n",
        "\n",
        "y_label = y_train.to_numpy()\n",
        "data = X_train\n",
        "\n",
        "for epoch in range(20):\n",
        "    error = 0\n",
        "    for sample in range(len(data)):\n",
        "        net.feedforward(data.iloc[sample])\n",
        "        targets = np.full(3, -1, dtype= int)\n",
        "        targets[y_label[sample]-1] = 1\n",
        "        net.backpropagate(targets)\n",
        "        error += np.sum(net.errors[-1] * net.errors[-1])\n",
        "\n",
        "test = X_train\n",
        "predictions = []\n",
        "for i in range(len(test)):\n",
        "    net.feedforward(test.iloc[i])\n",
        "    predictions.append(np.argmax(net.outputs[-1]))"
      ],
      "execution_count": null,
      "outputs": []
    },
    {
      "cell_type": "code",
      "metadata": {
        "colab": {
          "base_uri": "https://localhost:8080/"
        },
        "id": "QqnPayssksZ_",
        "outputId": "597b23c0-7a8c-4e14-d8c7-a65f58e5b3e5"
      },
      "source": [
        "from sklearn.metrics import accuracy_score\n",
        "accuracy_score(y_train, predictions)*100"
      ],
      "execution_count": 11,
      "outputs": [
        {
          "output_type": "stream",
          "text": [
            "83.92857142857143\n"
          ],
          "name": "stdout"
        }
      ]
    },
    {
      "cell_type": "code",
      "metadata": {
        "colab": {
          "base_uri": "https://localhost:8080/"
        },
        "id": "OSj0_nOr4w8c",
        "outputId": "287e83fd-3988-49ea-c44d-79e7bd576884"
      },
      "source": [
        "from sklearn.neural_network import MLPClassifier\n",
        "clf = MLPClassifier(random_state=1, max_iter=1000).fit(X_train, y_train)\n",
        "clf.predict_proba(X_test)\n",
        "clf.predict(X_test)\n",
        "\n",
        "clf.score(X_test, y_test)"
      ],
      "execution_count": 12,
      "outputs": [
        {
          "output_type": "execute_result",
          "data": {
            "text/plain": [
              "0.9047619047619048"
            ]
          },
          "metadata": {
            "tags": []
          },
          "execution_count": 12
        }
      ]
    },
    {
      "cell_type": "code",
      "metadata": {
        "id": "qJXcJXlkm8yw"
      },
      "source": [
        ""
      ],
      "execution_count": null,
      "outputs": []
    }
  ]
}