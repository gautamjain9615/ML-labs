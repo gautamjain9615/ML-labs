{
  "nbformat": 4,
  "nbformat_minor": 0,
  "metadata": {
    "colab": {
      "name": "lab7_q2.ipynb",
      "provenance": [],
      "collapsed_sections": []
    },
    "kernelspec": {
      "name": "python3",
      "display_name": "Python 3"
    },
    "language_info": {
      "name": "python"
    }
  },
  "cells": [
    {
      "cell_type": "code",
      "metadata": {
        "id": "_FAQFuSs1-Do"
      },
      "source": [
        "import pandas as pd\n",
        "import numpy as np\n",
        "import matplotlib.pyplot as plt"
      ],
      "execution_count": null,
      "outputs": []
    },
    {
      "cell_type": "code",
      "metadata": {
        "id": "QTSIQsqo-eAc"
      },
      "source": [
        "from sklearn.datasets import load_iris\n",
        "iris = load_iris()"
      ],
      "execution_count": null,
      "outputs": []
    },
    {
      "cell_type": "code",
      "metadata": {
        "id": "oNyYHLpy-f0D"
      },
      "source": [
        "X = iris.data\n",
        "y = iris.target"
      ],
      "execution_count": null,
      "outputs": []
    },
    {
      "cell_type": "code",
      "metadata": {
        "id": "JMtwpPexq93O"
      },
      "source": [
        "import random\n",
        "def Centroid_init(K):\n",
        "\n",
        "\tcentroid=[]\n",
        "\tfor i in range(K):\n",
        "\t\tcentroid.append(random.choice(X))\n",
        "\tcentroid=np.array(centroid)\n",
        "\n",
        "\treturn centroid\n",
        "\n",
        "#Labeling data based on centroid\n",
        "def Labeling(centroid):\n",
        "\n",
        "\tlabel=[]\n",
        "\tlabel_bor=[]\n",
        "\tfor i in range(len(X)):\n",
        "\t\tA = X[i]\n",
        "\t\tdistance=[]\n",
        "\t\tfor e in range(len(centroid)):\n",
        "\t\t\tB = centroid[e]\n",
        "\t\t\tD=np.sqrt(np.sum(A-B)**2)\n",
        "\t\t\tdistance.append(D)\n",
        "\t\tidx = np.argmin(distance)\n",
        "\t\tidx_max = np.argmax(distance)\n",
        "\t\tlabel.append(idx)\n",
        "\t\tlabel_bor.append(idx_max)\n",
        "\n",
        "\treturn label, label_bor\n",
        "\n",
        "#New centroid from labeled data i.e, Avg of labeled.pt\n",
        "def Centroid_change(label, K_cent):\n",
        "\n",
        "\tnew_cent=[]\n",
        "\tfor i in range(K_cent):\n",
        "\t\tnew_cent_i=[]\n",
        "\t\tfor e in range(len(label)):\n",
        "\t\t\tif label[e] == i:\n",
        "\t\t\t\tnc = label[e]\n",
        "\t\t\t\tnew_cent_i.append(X[e])\n",
        "\t\t\telse :\n",
        "\t\t\t\tpass\n",
        "\t\tnew_cent_i=np.array(new_cent_i)\n",
        "\t\tif len(new_cent_i)==0:\n",
        "\t\t\tpass\n",
        "\t\telse:\n",
        "\t\t\tnew_cent.append(new_cent_i.sum(axis=0)/len(new_cent_i))\n",
        "\tnew_cent=np.array(new_cent)\n",
        "\n",
        "\treturn new_cent\n",
        "\n",
        "#Accurace function \n",
        "def Accuracy(Final_label, Y):\n",
        "\n",
        "\tcount=0\n",
        "\tfor i in range(len(Y)):\n",
        "\t\tif Y[i]==Final_label[i]:\n",
        "\t\t\tcount=count+1\n",
        "\t\telse:\n",
        "\t\t\tpass\n",
        "\taccuracy=count/len(Y)\n",
        "\n",
        "\treturn accuracy, count\n",
        "\n",
        "#KMeans function which itterates untill there is no change in centroid\n",
        "def KMeans():\n",
        "\n",
        "\tInitial_cen=Centroid_init(K)\n",
        "\tCent_Store=[]\n",
        "\tcount=0\n",
        "\twhile True:\n",
        "\t\tif count == 0:\n",
        "\t\t\tLabel_labeling, _ = Labeling(Initial_cen)\n",
        "\t\telse :\n",
        "\t\t\tLabel_labeling, _ = Labeling(Changed_centroid)\n",
        "\t\tChanged_centroid = Centroid_change(Label_labeling, K)\n",
        "\t\tCent_Store.append(Changed_centroid)\n",
        "\t\tif count == 0:\n",
        "\t\t\tpass\n",
        "\t\telse:\t\n",
        "\t\t\tcount_p=count-1\n",
        "\t\t\tif np.all(Cent_Store[count_p]==Cent_Store[count]):\n",
        "\t\t\t\tbreak\n",
        "\t\t\telse:\n",
        "\t\t\t\tpass\n",
        "\t\tcount=count+1\n",
        "\tFinal_labeling, Final_labeling_bor=Labeling(Changed_centroid)\n",
        "\tFinal_labeling=np.array(Final_labeling)\n",
        "\n",
        "\treturn Final_labeling, Final_labeling_bor, Changed_centroid, count\n"
      ],
      "execution_count": null,
      "outputs": []
    },
    {
      "cell_type": "code",
      "metadata": {
        "colab": {
          "base_uri": "https://localhost:8080/"
        },
        "id": "enpeRtI2q90w",
        "outputId": "89c0807a-81d3-4cfc-a132-a774ae8ab0b5"
      },
      "source": [
        "\n",
        "K=3\n",
        "itt=100\n",
        "Final_label_itt=[]\n",
        "Final_label_bor_itt=[]\n",
        "Final_Centroid_itt=[]\n",
        "Itteration_itt=[]\n",
        "Accuracy_itt=[]\n",
        "Count_iit=[]\n",
        "\n",
        "for i in range(itt):\n",
        "\tFinal_label, Final_label_bor, Final_Centroid, Itteration=KMeans()\n",
        "\tAcc, cou =Accuracy(Final_label, y)\n",
        "\tFinal_label_itt.append(Final_label)\n",
        "\tFinal_label_bor_itt.append(Final_label_bor)\n",
        "\tFinal_Centroid_itt.append(Final_Centroid)\n",
        "\tItteration_itt.append(Itteration)\n",
        "\tAccuracy_itt.append(Acc)\n",
        "\tCount_iit.append(cou)\n",
        "Max_id=np.argmax(Accuracy_itt)\n",
        "#Accuracy\n",
        "print(Accuracy_itt[Max_id])\n"
      ],
      "execution_count": null,
      "outputs": [
        {
          "output_type": "stream",
          "text": [
            "0.8533333333333334\n"
          ],
          "name": "stdout"
        }
      ]
    },
    {
      "cell_type": "code",
      "metadata": {
        "colab": {
          "base_uri": "https://localhost:8080/",
          "height": 265
        },
        "id": "2zMP-x4oq9x5",
        "outputId": "a39d16e8-2fa0-4754-e30b-54b0404916f2"
      },
      "source": [
        "plt.scatter(Final_Centroid_itt[Max_id][0][0],Final_Centroid_itt[Max_id][0][3],marker='x',c='r')\n",
        "plt.scatter(Final_Centroid_itt[Max_id][1][0],Final_Centroid_itt[Max_id][1][3],marker='x',c='g')\n",
        "plt.scatter(Final_Centroid_itt[Max_id][2][0],Final_Centroid_itt[Max_id][2][3],marker='x',c='b')\n",
        "# plt.scatter(X[:,0],X[:,1])\n",
        "for i in range(len(X)):\n",
        "\tif Final_label_itt[Max_id][i]==0:\n",
        "\t\tplt.scatter(X[i][0],X[i][3], s=5, c='r')\n",
        "\telif Final_label_itt[Max_id][i]==1:\n",
        "\t\tplt.scatter(X[i][0],X[i][3], s=5, c='g')\n",
        "\telif Final_label_itt[Max_id][i]==2:\n",
        "\t\tplt.scatter(X[i][0],X[i][3], s=5, c='b')\n",
        "\telse:\n",
        "\t\tpass\t\t\n",
        "plt.show()"
      ],
      "execution_count": null,
      "outputs": [
        {
          "output_type": "display_data",
          "data": {
            "image/png": "[encoded data removed]",
            "text/plain": [
              "<Figure size 432x288 with 1 Axes>"
            ]
          },
          "metadata": {
            "tags": [],
            "needs_background": "light"
          }
        }
      ]
    },
    {
      "cell_type": "code",
      "metadata": {
        "colab": {
          "base_uri": "https://localhost:8080/"
        },
        "id": "09FFcV0Fq9vf",
        "outputId": "e8690c72-7da1-4305-9515-c3224ec13654"
      },
      "source": [
        "K=2\n",
        "itt=100\n",
        "Final_label_itt=[]\n",
        "Final_label_bor_itt=[]\n",
        "Final_Centroid_itt=[]\n",
        "Itteration_itt=[]\n",
        "Accuracy_itt=[]\n",
        "Count_iit=[]\n",
        "\n",
        "for i in range(itt):\n",
        "\tFinal_label, Final_label_bor, Final_Centroid, Itteration=KMeans()\n",
        "\tAcc, cou =Accuracy(Final_label, y)\n",
        "\tFinal_label_itt.append(Final_label)\n",
        "\tFinal_label_bor_itt.append(Final_label_bor)\n",
        "\tFinal_Centroid_itt.append(Final_Centroid)\n",
        "\tItteration_itt.append(Itteration)\n",
        "\tAccuracy_itt.append(Acc)\n",
        "\tCount_iit.append(cou)\n",
        "Max_id=np.argmax(Accuracy_itt)\n",
        "#Accuracy\n",
        "print(Accuracy_itt[Max_id])"
      ],
      "execution_count": null,
      "outputs": [
        {
          "output_type": "stream",
          "text": [
            "0.5866666666666667\n"
          ],
          "name": "stdout"
        }
      ]
    },
    {
      "cell_type": "code",
      "metadata": {
        "colab": {
          "base_uri": "https://localhost:8080/",
          "height": 265
        },
        "id": "_5S-edVqq9tA",
        "outputId": "a81d79ab-e17c-4e9b-ea23-6ea30ff57e3d"
      },
      "source": [
        "plt.scatter(Final_Centroid_itt[Max_id][0][0],Final_Centroid_itt[Max_id][0][3],marker='x',c='r')\n",
        "plt.scatter(Final_Centroid_itt[Max_id][1][0],Final_Centroid_itt[Max_id][1][3],marker='x',c='g')\n",
        "for i in range(len(X)):\n",
        "\tif Final_label_itt[Max_id][i]==0:\n",
        "\t\tplt.scatter(X[i][0],X[i][3], s=5, c='r')\n",
        "\telif Final_label_itt[Max_id][i]==1:\n",
        "\t\tplt.scatter(X[i][0],X[i][3], s=5, c='g')\n",
        "\telse:\n",
        "\t\tpass\t\t\n",
        "plt.show()"
      ],
      "execution_count": null,
      "outputs": [
        {
          "output_type": "display_data",
          "data": {
            "image/png": "[encoded data removed]",
            "text/plain": [
              "<Figure size 432x288 with 1 Axes>"
            ]
          },
          "metadata": {
            "tags": [],
            "needs_background": "light"
          }
        }
      ]
    },
    {
      "cell_type": "code",
      "metadata": {
        "colab": {
          "base_uri": "https://localhost:8080/"
        },
        "id": "Cbp_2xkcq9n8",
        "outputId": "70839847-eecc-41a9-e847-77b7487844ec"
      },
      "source": [
        "K=4\n",
        "itt=100\n",
        "Final_label_itt=[]\n",
        "Final_label_bor_itt=[]\n",
        "Final_Centroid_itt=[]\n",
        "Itteration_itt=[]\n",
        "Accuracy_itt=[]\n",
        "Count_iit=[]\n",
        "\n",
        "for i in range(itt):\n",
        "\tFinal_label, Final_label_bor, Final_Centroid, Itteration=KMeans()\n",
        "\tAcc, cou =Accuracy(Final_label, y)\n",
        "\tFinal_label_itt.append(Final_label)\n",
        "\tFinal_label_bor_itt.append(Final_label_bor)\n",
        "\tFinal_Centroid_itt.append(Final_Centroid)\n",
        "\tItteration_itt.append(Itteration)\n",
        "\tAccuracy_itt.append(Acc)\n",
        "\tCount_iit.append(cou)\n",
        "Max_id=np.argmax(Accuracy_itt)\n",
        "#Accuracy\n",
        "print(Accuracy_itt[Max_id])"
      ],
      "execution_count": null,
      "outputs": [
        {
          "output_type": "stream",
          "text": [
            "0.7133333333333334\n"
          ],
          "name": "stdout"
        }
      ]
    },
    {
      "cell_type": "code",
      "metadata": {
        "colab": {
          "base_uri": "https://localhost:8080/",
          "height": 265
        },
        "id": "Y5b0CF4R4anb",
        "outputId": "be5ec1b4-a9a3-4c2c-cc9f-b6a8847838d1"
      },
      "source": [
        "plt.scatter(Final_Centroid_itt[Max_id][0][0],Final_Centroid_itt[Max_id][0][3],marker='x',c='r')\n",
        "plt.scatter(Final_Centroid_itt[Max_id][1][0],Final_Centroid_itt[Max_id][1][3],marker='x',c='g')\n",
        "plt.scatter(Final_Centroid_itt[Max_id][2][0],Final_Centroid_itt[Max_id][2][3],marker='x',c='b')\n",
        "plt.scatter(Final_Centroid_itt[Max_id][3][0],Final_Centroid_itt[Max_id][3][3],marker='x',c='y')\n",
        "# plt.scatter(X[:,0],X[:,1])\n",
        "for i in range(len(X)):\n",
        "\tif Final_label_itt[Max_id][i]==0:\n",
        "\t\tplt.scatter(X[i][0],X[i][3], s=5, c='r')\n",
        "\telif Final_label_itt[Max_id][i]==1:\n",
        "\t\tplt.scatter(X[i][0],X[i][3], s=5, c='g')\n",
        "\telif Final_label_itt[Max_id][i]==2:\n",
        "\t\tplt.scatter(X[i][0],X[i][3], s=5, c='b')\n",
        "\telif Final_label_itt[Max_id][i]==3:\n",
        "\t\tplt.scatter(X[i][0],X[i][3], s=5, c='y')\n",
        "\telse:\n",
        "\t\tpass\t\t\n",
        "plt.show()"
      ],
      "execution_count": null,
      "outputs": [
        {
          "output_type": "display_data",
          "data": {
            "image/png": "[encoded data removed]",
            "text/plain": [
              "<Figure size 432x288 with 1 Axes>"
            ]
          },
          "metadata": {
            "tags": [],
            "needs_background": "light"
          }
        }
      ]
    },
    {
      "cell_type": "code",
      "metadata": {
        "id": "ub1xhk084kt_"
      },
      "source": [
        ""
      ],
      "execution_count": null,
      "outputs": []
    }
  ]
}