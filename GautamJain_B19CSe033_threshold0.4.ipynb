{
  "nbformat": 4,
  "nbformat_minor": 0,
  "metadata": {
    "colab": {
      "name": "EvaluationMetricLab.ipynb",
      "provenance": [],
      "collapsed_sections": []
    },
    "kernelspec": {
      "name": "python3",
      "display_name": "Python 3"
    }
  },
  "cells": [
    {
      "cell_type": "code",
      "metadata": {
        "id": "9l7HD94rODqX"
      },
      "source": [
        "import pandas as pd\n",
        "import numpy as np\n",
        "# from google.colab import drive"
      ],
      "execution_count": 53,
      "outputs": []
    },
    {
      "cell_type": "code",
      "metadata": {
        "id": "30qfWl1uOGVv"
      },
      "source": [
        "# drive.mount('/content/drive')"
      ],
      "execution_count": 54,
      "outputs": []
    },
    {
      "cell_type": "code",
      "metadata": {
        "colab": {
          "resources": {
            "http://localhost:8080/nbextensions/google.colab/files.js": {
              "data": "Ly8gQ29weXJpZ2h0IDIwMTcgR29vZ2xlIExMQwovLwovLyBMaWNlbnNlZCB1bmRlciB0aGUgQXBhY2hlIExpY2Vuc2UsIFZlcnNpb24gMi4wICh0aGUgIkxpY2Vuc2UiKTsKLy8geW91IG1heSBub3QgdXNlIHRoaXMgZmlsZSBleGNlcHQgaW4gY29tcGxpYW5jZSB3aXRoIHRoZSBMaWNlbnNlLgovLyBZb3UgbWF5IG9idGFpbiBhIGNvcHkgb2YgdGhlIExpY2Vuc2UgYXQKLy8KLy8gICAgICBodHRwOi8vd3d3LmFwYWNoZS5vcmcvbGljZW5zZXMvTElDRU5TRS0yLjAKLy8KLy8gVW5sZXNzIHJlcXVpcmVkIGJ5IGFwcGxpY2FibGUgbGF3IG9yIGFncmVlZCB0byBpbiB3cml0aW5nLCBzb2Z0d2FyZQovLyBkaXN0cmlidXRlZCB1bmRlciB0aGUgTGljZW5zZSBpcyBkaXN0cmlidXRlZCBvbiBhbiAiQVMgSVMiIEJBU0lTLAovLyBXSVRIT1VUIFdBUlJBTlRJRVMgT1IgQ09ORElUSU9OUyBPRiBBTlkgS0lORCwgZWl0aGVyIGV4cHJlc3Mgb3IgaW1wbGllZC4KLy8gU2VlIHRoZSBMaWNlbnNlIGZvciB0aGUgc3BlY2lmaWMgbGFuZ3VhZ2UgZ292ZXJuaW5nIHBlcm1pc3Npb25zIGFuZAovLyBsaW1pdGF0aW9ucyB1bmRlciB0aGUgTGljZW5zZS4KCi8qKgogKiBAZmlsZW92ZXJ2aWV3IEhlbHBlcnMgZm9yIGdvb2dsZS5jb2xhYiBQeXRob24gbW9kdWxlLgogKi8KKGZ1bmN0aW9uKHNjb3BlKSB7CmZ1bmN0aW9uIHNwYW4odGV4dCwgc3R5bGVBdHRyaWJ1dGVzID0ge30pIHsKICBjb25zdCBlbGVtZW50ID0gZG9jdW1lbnQuY3JlYXRlRWxlbWVudCgnc3BhbicpOwogIGVsZW1lbnQudGV4dENvbnRlbnQgPSB0ZXh0OwogIGZvciAoY29uc3Qga2V5IG9mIE9iamVjdC5rZXlzKHN0eWxlQXR0cmlidXRlcykpIHsKICAgIGVsZW1lbnQuc3R5bGVba2V5XSA9IHN0eWxlQXR0cmlidXRlc1trZXldOwogIH0KICByZXR1cm4gZWxlbWVudDsKfQoKLy8gTWF4IG51bWJlciBvZiBieXRlcyB3aGljaCB3aWxsIGJlIHVwbG9hZGVkIGF0IGEgdGltZS4KY29uc3QgTUFYX1BBWUxPQURfU0laRSA9IDEwMCAqIDEwMjQ7CgpmdW5jdGlvbiBfdXBsb2FkRmlsZXMoaW5wdXRJZCwgb3V0cHV0SWQpIHsKICBjb25zdCBzdGVwcyA9IHVwbG9hZEZpbGVzU3RlcChpbnB1dElkLCBvdXRwdXRJZCk7CiAgY29uc3Qgb3V0cHV0RWxlbWVudCA9IGRvY3VtZW50LmdldEVsZW1lbnRCeUlkKG91dHB1dElkKTsKICAvLyBDYWNoZSBzdGVwcyBvbiB0aGUgb3V0cHV0RWxlbWVudCB0byBtYWtlIGl0IGF2YWlsYWJsZSBmb3IgdGhlIG5leHQgY2FsbAogIC8vIHRvIHVwbG9hZEZpbGVzQ29udGludWUgZnJvbSBQeXRob24uCiAgb3V0cHV0RWxlbWVudC5zdGVwcyA9IHN0ZXBzOwoKICByZXR1cm4gX3VwbG9hZEZpbGVzQ29udGludWUob3V0cHV0SWQpOwp9CgovLyBUaGlzIGlzIHJvdWdobHkgYW4gYXN5bmMgZ2VuZXJhdG9yIChub3Qgc3VwcG9ydGVkIGluIHRoZSBicm93c2VyIHlldCksCi8vIHdoZXJlIHRoZXJlIGFyZSBtdWx0aXBsZSBhc3luY2hyb25vdXMgc3RlcHMgYW5kIHRoZSBQeXRob24gc2lkZSBpcyBnb2luZwovLyB0byBwb2xsIGZvciBjb21wbGV0aW9uIG9mIGVhY2ggc3RlcC4KLy8gVGhpcyB1c2VzIGEgUHJvbWlzZSB0byBibG9jayB0aGUgcHl0aG9uIHNpZGUgb24gY29tcGxldGlvbiBvZiBlYWNoIHN0ZXAsCi8vIHRoZW4gcGFzc2VzIHRoZSByZXN1bHQgb2YgdGhlIHByZXZpb3VzIHN0ZXAgYXMgdGhlIGlucHV0IHRvIHRoZSBuZXh0IHN0ZXAuCmZ1bmN0aW9uIF91cGxvYWRGaWxlc0NvbnRpbnVlKG91dHB1dElkKSB7CiAgY29uc3Qgb3V0cHV0RWxlbWVudCA9IGRvY3VtZW50LmdldEVsZW1lbnRCeUlkKG91dHB1dElkKTsKICBjb25zdCBzdGVwcyA9IG91dHB1dEVsZW1lbnQuc3RlcHM7CgogIGNvbnN0IG5leHQgPSBzdGVwcy5uZXh0KG91dHB1dEVsZW1lbnQubGFzdFByb21pc2VWYWx1ZSk7CiAgcmV0dXJuIFByb21pc2UucmVzb2x2ZShuZXh0LnZhbHVlLnByb21pc2UpLnRoZW4oKHZhbHVlKSA9PiB7CiAgICAvLyBDYWNoZSB0aGUgbGFzdCBwcm9taXNlIHZhbHVlIHRvIG1ha2UgaXQgYXZhaWxhYmxlIHRvIHRoZSBuZXh0CiAgICAvLyBzdGVwIG9mIHRoZSBnZW5lcmF0b3IuCiAgICBvdXRwdXRFbGVtZW50Lmxhc3RQcm9taXNlVmFsdWUgPSB2YWx1ZTsKICAgIHJldHVybiBuZXh0LnZhbHVlLnJlc3BvbnNlOwogIH0pOwp9CgovKioKICogR2VuZXJhdG9yIGZ1bmN0aW9uIHdoaWNoIGlzIGNhbGxlZCBiZXR3ZWVuIGVhY2ggYXN5bmMgc3RlcCBvZiB0aGUgdXBsb2FkCiAqIHByb2Nlc3MuCiAqIEBwYXJhbSB7c3RyaW5nfSBpbnB1dElkIEVsZW1lbnQgSUQgb2YgdGhlIGlucHV0IGZpbGUgcGlja2VyIGVsZW1lbnQuCiAqIEBwYXJhbSB7c3RyaW5nfSBvdXRwdXRJZCBFbGVtZW50IElEIG9mIHRoZSBvdXRwdXQgZGlzcGxheS4KICogQHJldHVybiB7IUl0ZXJhYmxlPCFPYmplY3Q+fSBJdGVyYWJsZSBvZiBuZXh0IHN0ZXBzLgogKi8KZnVuY3Rpb24qIHVwbG9hZEZpbGVzU3RlcChpbnB1dElkLCBvdXRwdXRJZCkgewogIGNvbnN0IGlucHV0RWxlbWVudCA9IGRvY3VtZW50LmdldEVsZW1lbnRCeUlkKGlucHV0SWQpOwogIGlucHV0RWxlbWVudC5kaXNhYmxlZCA9IGZhbHNlOwoKICBjb25zdCBvdXRwdXRFbGVtZW50ID0gZG9jdW1lbnQuZ2V0RWxlbWVudEJ5SWQob3V0cHV0SWQpOwogIG91dHB1dEVsZW1lbnQuaW5uZXJIVE1MID0gJyc7CgogIGNvbnN0IHBpY2tlZFByb21pc2UgPSBuZXcgUHJvbWlzZSgocmVzb2x2ZSkgPT4gewogICAgaW5wdXRFbGVtZW50LmFkZEV2ZW50TGlzdGVuZXIoJ2NoYW5nZScsIChlKSA9PiB7CiAgICAgIHJlc29sdmUoZS50YXJnZXQuZmlsZXMpOwogICAgfSk7CiAgfSk7CgogIGNvbnN0IGNhbmNlbCA9IGRvY3VtZW50LmNyZWF0ZUVsZW1lbnQoJ2J1dHRvbicpOwogIGlucHV0RWxlbWVudC5wYXJlbnRFbGVtZW50LmFwcGVuZENoaWxkKGNhbmNlbCk7CiAgY2FuY2VsLnRleHRDb250ZW50ID0gJ0NhbmNlbCB1cGxvYWQnOwogIGNvbnN0IGNhbmNlbFByb21pc2UgPSBuZXcgUHJvbWlzZSgocmVzb2x2ZSkgPT4gewogICAgY2FuY2VsLm9uY2xpY2sgPSAoKSA9PiB7CiAgICAgIHJlc29sdmUobnVsbCk7CiAgICB9OwogIH0pOwoKICAvLyBXYWl0IGZvciB0aGUgdXNlciB0byBwaWNrIHRoZSBmaWxlcy4KICBjb25zdCBmaWxlcyA9IHlpZWxkIHsKICAgIHByb21pc2U6IFByb21pc2UucmFjZShbcGlja2VkUHJvbWlzZSwgY2FuY2VsUHJvbWlzZV0pLAogICAgcmVzcG9uc2U6IHsKICAgICAgYWN0aW9uOiAnc3RhcnRpbmcnLAogICAgfQogIH07CgogIGNhbmNlbC5yZW1vdmUoKTsKCiAgLy8gRGlzYWJsZSB0aGUgaW5wdXQgZWxlbWVudCBzaW5jZSBmdXJ0aGVyIHBpY2tzIGFyZSBub3QgYWxsb3dlZC4KICBpbnB1dEVsZW1lbnQuZGlzYWJsZWQgPSB0cnVlOwoKICBpZiAoIWZpbGVzKSB7CiAgICByZXR1cm4gewogICAgICByZXNwb25zZTogewogICAgICAgIGFjdGlvbjogJ2NvbXBsZXRlJywKICAgICAgfQogICAgfTsKICB9CgogIGZvciAoY29uc3QgZmlsZSBvZiBmaWxlcykgewogICAgY29uc3QgbGkgPSBkb2N1bWVudC5jcmVhdGVFbGVtZW50KCdsaScpOwogICAgbGkuYXBwZW5kKHNwYW4oZmlsZS5uYW1lLCB7Zm9udFdlaWdodDogJ2JvbGQnfSkpOwogICAgbGkuYXBwZW5kKHNwYW4oCiAgICAgICAgYCgke2ZpbGUudHlwZSB8fCAnbi9hJ30pIC0gJHtmaWxlLnNpemV9IGJ5dGVzLCBgICsKICAgICAgICBgbGFzdCBtb2RpZmllZDogJHsKICAgICAgICAgICAgZmlsZS5sYXN0TW9kaWZpZWREYXRlID8gZmlsZS5sYXN0TW9kaWZpZWREYXRlLnRvTG9jYWxlRGF0ZVN0cmluZygpIDoKICAgICAgICAgICAgICAgICAgICAgICAgICAgICAgICAgICAgJ24vYSd9IC0gYCkpOwogICAgY29uc3QgcGVyY2VudCA9IHNwYW4oJzAlIGRvbmUnKTsKICAgIGxpLmFwcGVuZENoaWxkKHBlcmNlbnQpOwoKICAgIG91dHB1dEVsZW1lbnQuYXBwZW5kQ2hpbGQobGkpOwoKICAgIGNvbnN0IGZpbGVEYXRhUHJvbWlzZSA9IG5ldyBQcm9taXNlKChyZXNvbHZlKSA9PiB7CiAgICAgIGNvbnN0IHJlYWRlciA9IG5ldyBGaWxlUmVhZGVyKCk7CiAgICAgIHJlYWRlci5vbmxvYWQgPSAoZSkgPT4gewogICAgICAgIHJlc29sdmUoZS50YXJnZXQucmVzdWx0KTsKICAgICAgfTsKICAgICAgcmVhZGVyLnJlYWRBc0FycmF5QnVmZmVyKGZpbGUpOwogICAgfSk7CiAgICAvLyBXYWl0IGZvciB0aGUgZGF0YSB0byBiZSByZWFkeS4KICAgIGxldCBmaWxlRGF0YSA9IHlpZWxkIHsKICAgICAgcHJvbWlzZTogZmlsZURhdGFQcm9taXNlLAogICAgICByZXNwb25zZTogewogICAgICAgIGFjdGlvbjogJ2NvbnRpbnVlJywKICAgICAgfQogICAgfTsKCiAgICAvLyBVc2UgYSBjaHVua2VkIHNlbmRpbmcgdG8gYXZvaWQgbWVzc2FnZSBzaXplIGxpbWl0cy4gU2VlIGIvNjIxMTU2NjAuCiAgICBsZXQgcG9zaXRpb24gPSAwOwogICAgd2hpbGUgKHBvc2l0aW9uIDwgZmlsZURhdGEuYnl0ZUxlbmd0aCkgewogICAgICBjb25zdCBsZW5ndGggPSBNYXRoLm1pbihmaWxlRGF0YS5ieXRlTGVuZ3RoIC0gcG9zaXRpb24sIE1BWF9QQVlMT0FEX1NJWkUpOwogICAgICBjb25zdCBjaHVuayA9IG5ldyBVaW50OEFycmF5KGZpbGVEYXRhLCBwb3NpdGlvbiwgbGVuZ3RoKTsKICAgICAgcG9zaXRpb24gKz0gbGVuZ3RoOwoKICAgICAgY29uc3QgYmFzZTY0ID0gYnRvYShTdHJpbmcuZnJvbUNoYXJDb2RlLmFwcGx5KG51bGwsIGNodW5rKSk7CiAgICAgIHlpZWxkIHsKICAgICAgICByZXNwb25zZTogewogICAgICAgICAgYWN0aW9uOiAnYXBwZW5kJywKICAgICAgICAgIGZpbGU6IGZpbGUubmFtZSwKICAgICAgICAgIGRhdGE6IGJhc2U2NCwKICAgICAgICB9LAogICAgICB9OwogICAgICBwZXJjZW50LnRleHRDb250ZW50ID0KICAgICAgICAgIGAke01hdGgucm91bmQoKHBvc2l0aW9uIC8gZmlsZURhdGEuYnl0ZUxlbmd0aCkgKiAxMDApfSUgZG9uZWA7CiAgICB9CiAgfQoKICAvLyBBbGwgZG9uZS4KICB5aWVsZCB7CiAgICByZXNwb25zZTogewogICAgICBhY3Rpb246ICdjb21wbGV0ZScsCiAgICB9CiAgfTsKfQoKc2NvcGUuZ29vZ2xlID0gc2NvcGUuZ29vZ2xlIHx8IHt9OwpzY29wZS5nb29nbGUuY29sYWIgPSBzY29wZS5nb29nbGUuY29sYWIgfHwge307CnNjb3BlLmdvb2dsZS5jb2xhYi5fZmlsZXMgPSB7CiAgX3VwbG9hZEZpbGVzLAogIF91cGxvYWRGaWxlc0NvbnRpbnVlLAp9Owp9KShzZWxmKTsK",
              "ok": true,
              "headers": [
                [
                  "content-type",
                  "application/javascript"
                ]
              ],
              "status": 200,
              "status_text": ""
            }
          },
          "base_uri": "https://localhost:8080/",
          "height": 39
        },
        "id": "WDrKAJHkQG7n",
        "outputId": "644c498c-cbde-4f42-c2a6-5e3d6009bd8e"
      },
      "source": [
        "from google.colab import files \r\n",
        "uploaded=files.upload()"
      ],
      "execution_count": 55,
      "outputs": [
        {
          "output_type": "display_data",
          "data": {
            "text/html": [
              "\n",
              "     <input type=\"file\" id=\"files-11b9986e-9e30-45da-8c53-27e798a30722\" name=\"files[]\" multiple disabled\n",
              "        style=\"border:none\" />\n",
              "     <output id=\"result-11b9986e-9e30-45da-8c53-27e798a30722\">\n",
              "      Upload widget is only available when the cell has been executed in the\n",
              "      current browser session. Please rerun this cell to enable.\n",
              "      </output>\n",
              "      <script src=\"/nbextensions/google.colab/files.js\"></script> "
            ],
            "text/plain": [
              "<IPython.core.display.HTML object>"
            ]
          },
          "metadata": {
            "tags": []
          }
        }
      ]
    },
    {
      "cell_type": "code",
      "metadata": {
        "id": "uXcnDs55OhzG"
      },
      "source": [
        "# give path to the data.csv \r\n",
        "file_path = '/content/data.csv'"
      ],
      "execution_count": 56,
      "outputs": []
    },
    {
      "cell_type": "markdown",
      "metadata": {
        "id": "P2izkRL5GOiV"
      },
      "source": [
        "As one may see, the csv file contains actual labels and the predicted probabilities from two ML model (random forest and logistic regression)."
      ]
    },
    {
      "cell_type": "code",
      "metadata": {
        "id": "Ps5StOSZOzc3",
        "colab": {
          "base_uri": "https://localhost:8080/",
          "height": 195
        },
        "outputId": "5687f45d-0a7d-4ea2-f2bd-61e5d94ba5f1"
      },
      "source": [
        "df = pd.read_csv(file_path, error_bad_lines=False)\n",
        "df.head()\n"
      ],
      "execution_count": 57,
      "outputs": [
        {
          "output_type": "execute_result",
          "data": {
            "text/html": [
              "<div>\n",
              "<style scoped>\n",
              "    .dataframe tbody tr th:only-of-type {\n",
              "        vertical-align: middle;\n",
              "    }\n",
              "\n",
              "    .dataframe tbody tr th {\n",
              "        vertical-align: top;\n",
              "    }\n",
              "\n",
              "    .dataframe thead th {\n",
              "        text-align: right;\n",
              "    }\n",
              "</style>\n",
              "<table border=\"1\" class=\"dataframe\">\n",
              "  <thead>\n",
              "    <tr style=\"text-align: right;\">\n",
              "      <th></th>\n",
              "      <th>y_act</th>\n",
              "      <th>y_pred_random_forest</th>\n",
              "      <th>y_pred_logistic</th>\n",
              "    </tr>\n",
              "  </thead>\n",
              "  <tbody>\n",
              "    <tr>\n",
              "      <th>0</th>\n",
              "      <td>1</td>\n",
              "      <td>0.639816</td>\n",
              "      <td>0.531904</td>\n",
              "    </tr>\n",
              "    <tr>\n",
              "      <th>1</th>\n",
              "      <td>0</td>\n",
              "      <td>0.490993</td>\n",
              "      <td>0.414496</td>\n",
              "    </tr>\n",
              "    <tr>\n",
              "      <th>2</th>\n",
              "      <td>1</td>\n",
              "      <td>0.623815</td>\n",
              "      <td>0.569883</td>\n",
              "    </tr>\n",
              "    <tr>\n",
              "      <th>3</th>\n",
              "      <td>1</td>\n",
              "      <td>0.506616</td>\n",
              "      <td>0.443674</td>\n",
              "    </tr>\n",
              "    <tr>\n",
              "      <th>4</th>\n",
              "      <td>0</td>\n",
              "      <td>0.418302</td>\n",
              "      <td>0.369532</td>\n",
              "    </tr>\n",
              "  </tbody>\n",
              "</table>\n",
              "</div>"
            ],
            "text/plain": [
              "   y_act  y_pred_random_forest  y_pred_logistic\n",
              "0      1              0.639816         0.531904\n",
              "1      0              0.490993         0.414496\n",
              "2      1              0.623815         0.569883\n",
              "3      1              0.506616         0.443674\n",
              "4      0              0.418302         0.369532"
            ]
          },
          "metadata": {
            "tags": []
          },
          "execution_count": 57
        }
      ]
    },
    {
      "cell_type": "markdown",
      "metadata": {
        "id": "ya4LrEfQGlJ6"
      },
      "source": [
        "You have to take a threshold value and will have to predict final label. \r\n",
        "So add two new columns named as 'y_pred_rf'and 'y_pred_lr' in the df dataframe. These new columns will have final label predicted by the two models based on the threshold set."
      ]
    },
    {
      "cell_type": "code",
      "metadata": {
        "id": "djBcS1sPO2hP",
        "colab": {
          "base_uri": "https://localhost:8080/",
          "height": 195
        },
        "outputId": "51d8e1bc-4b8a-4104-eb70-474525803bc3"
      },
      "source": [
        "thresh = 0.4\n",
        "df['y_pred_rf'] = (df.y_pred_random_forest >= 0.4).astype('int')\n",
        "df['y_pred_lr'] = (df.y_pred_logistic >= 0.4).astype('int')\n",
        "df.head()"
      ],
      "execution_count": 58,
      "outputs": [
        {
          "output_type": "execute_result",
          "data": {
            "text/html": [
              "<div>\n",
              "<style scoped>\n",
              "    .dataframe tbody tr th:only-of-type {\n",
              "        vertical-align: middle;\n",
              "    }\n",
              "\n",
              "    .dataframe tbody tr th {\n",
              "        vertical-align: top;\n",
              "    }\n",
              "\n",
              "    .dataframe thead th {\n",
              "        text-align: right;\n",
              "    }\n",
              "</style>\n",
              "<table border=\"1\" class=\"dataframe\">\n",
              "  <thead>\n",
              "    <tr style=\"text-align: right;\">\n",
              "      <th></th>\n",
              "      <th>y_act</th>\n",
              "      <th>y_pred_random_forest</th>\n",
              "      <th>y_pred_logistic</th>\n",
              "      <th>y_pred_rf</th>\n",
              "      <th>y_pred_lr</th>\n",
              "    </tr>\n",
              "  </thead>\n",
              "  <tbody>\n",
              "    <tr>\n",
              "      <th>0</th>\n",
              "      <td>1</td>\n",
              "      <td>0.639816</td>\n",
              "      <td>0.531904</td>\n",
              "      <td>1</td>\n",
              "      <td>1</td>\n",
              "    </tr>\n",
              "    <tr>\n",
              "      <th>1</th>\n",
              "      <td>0</td>\n",
              "      <td>0.490993</td>\n",
              "      <td>0.414496</td>\n",
              "      <td>1</td>\n",
              "      <td>1</td>\n",
              "    </tr>\n",
              "    <tr>\n",
              "      <th>2</th>\n",
              "      <td>1</td>\n",
              "      <td>0.623815</td>\n",
              "      <td>0.569883</td>\n",
              "      <td>1</td>\n",
              "      <td>1</td>\n",
              "    </tr>\n",
              "    <tr>\n",
              "      <th>3</th>\n",
              "      <td>1</td>\n",
              "      <td>0.506616</td>\n",
              "      <td>0.443674</td>\n",
              "      <td>1</td>\n",
              "      <td>1</td>\n",
              "    </tr>\n",
              "    <tr>\n",
              "      <th>4</th>\n",
              "      <td>0</td>\n",
              "      <td>0.418302</td>\n",
              "      <td>0.369532</td>\n",
              "      <td>1</td>\n",
              "      <td>0</td>\n",
              "    </tr>\n",
              "  </tbody>\n",
              "</table>\n",
              "</div>"
            ],
            "text/plain": [
              "   y_act  y_pred_random_forest  y_pred_logistic  y_pred_rf  y_pred_lr\n",
              "0      1              0.639816         0.531904          1          1\n",
              "1      0              0.490993         0.414496          1          1\n",
              "2      1              0.623815         0.569883          1          1\n",
              "3      1              0.506616         0.443674          1          1\n",
              "4      0              0.418302         0.369532          1          0"
            ]
          },
          "metadata": {
            "tags": []
          },
          "execution_count": 58
        }
      ]
    },
    {
      "cell_type": "code",
      "metadata": {
        "id": "MyCUFrItPlPO",
        "colab": {
          "base_uri": "https://localhost:8080/"
        },
        "outputId": "da6c0034-638f-4c4c-e8d9-2d3186535bf9"
      },
      "source": [
        "df.shape"
      ],
      "execution_count": 59,
      "outputs": [
        {
          "output_type": "execute_result",
          "data": {
            "text/plain": [
              "(15758, 5)"
            ]
          },
          "metadata": {
            "tags": []
          },
          "execution_count": 59
        }
      ]
    },
    {
      "cell_type": "markdown",
      "metadata": {
        "id": "--7qeK98HW0i"
      },
      "source": [
        "Complete below function to compute true positive (tp), tn, fn, tn"
      ]
    },
    {
      "cell_type": "code",
      "metadata": {
        "id": "odU7dUxRPJ0l"
      },
      "source": [
        "def compute_tp_tn_fn_fp(y_act, y_pred):\n",
        "  tp = 0\n",
        "  fp = 0\n",
        "  tn = 0\n",
        "  fn = 0\n",
        "\n",
        "  for i in range(len(y_pred)): \n",
        "    if y_act[i]==y_pred[i]==1:\n",
        "      tp += 1\n",
        "    if y_pred[i]==1 and y_act[i]!=y_pred[i]:\n",
        "      fp += 1\n",
        "    if y_act[i]==y_pred[i]==0:\n",
        "      tn += 1\n",
        "    if y_pred[i]==0 and y_act[i]!=y_pred[i]:\n",
        "      fn += 1\n",
        "  return tp, tn, fp, fn"
      ],
      "execution_count": 60,
      "outputs": []
    },
    {
      "cell_type": "code",
      "metadata": {
        "id": "NUr_BhRdPScf",
        "colab": {
          "base_uri": "https://localhost:8080/"
        },
        "outputId": "bb46b800-8280-4b78-fe25-33c3f83d5f42"
      },
      "source": [
        "tp_lr, tn_lr, fp_lr, fn_lr = compute_tp_tn_fn_fp(df.y_act, df.y_pred_lr)\n",
        "print('TP for Logistic Reg :', tp_lr)\n",
        "print('TN for Logistic Reg :', tn_lr)\n",
        "print('FP for Logistic Reg :', fp_lr)\n",
        "print('FN for Logistic Reg :', fn_lr)"
      ],
      "execution_count": 61,
      "outputs": [
        {
          "output_type": "stream",
          "text": [
            "TP for Logistic Reg : 6535\n",
            "TN for Logistic Reg : 2862\n",
            "FP for Logistic Reg : 5017\n",
            "FN for Logistic Reg : 1344\n"
          ],
          "name": "stdout"
        }
      ]
    },
    {
      "cell_type": "code",
      "metadata": {
        "id": "I_g7lSw0QXSW",
        "colab": {
          "base_uri": "https://localhost:8080/"
        },
        "outputId": "7a4aedad-ba2b-4b66-94f1-f4c48b45db7e"
      },
      "source": [
        "tp_rf, tn_rf, fp_rf, fn_rf = compute_tp_tn_fn_fp(df.y_act, df.y_pred_rf)\n",
        "print('TP for Random Forest :', tp_rf)\n",
        "print('TN for Random Forest :', tn_rf)\n",
        "print('FP for Random Forest :', fp_rf)\n",
        "print('FN for Random Forest :', fn_rf)"
      ],
      "execution_count": 62,
      "outputs": [
        {
          "output_type": "stream",
          "text": [
            "TP for Random Forest : 7411\n",
            "TN for Random Forest : 1930\n",
            "FP for Random Forest : 5949\n",
            "FN for Random Forest : 468\n"
          ],
          "name": "stdout"
        }
      ]
    },
    {
      "cell_type": "markdown",
      "metadata": {
        "id": "GvCtMtH1H26J"
      },
      "source": [
        "Let's verify result from sklearn"
      ]
    },
    {
      "cell_type": "code",
      "metadata": {
        "id": "bgZP9T4CZ1Li"
      },
      "source": [
        "from sklearn.metrics import confusion_matrix\n",
        "tn_rf1, fp_rf1, fn_rf1, tp_rf1 = confusion_matrix(df.y_act, df.y_pred_rf).ravel()"
      ],
      "execution_count": 63,
      "outputs": []
    },
    {
      "cell_type": "code",
      "metadata": {
        "id": "_rtIci_rZ9J7",
        "colab": {
          "base_uri": "https://localhost:8080/"
        },
        "outputId": "ca24e5c1-b64e-4bdb-ba0d-963c52b0d3de"
      },
      "source": [
        "print('TP for Random Forest :', tp_rf1)\n",
        "print('TN for Random Forest :', tn_rf1)\n",
        "print('FP for Random Forest :', fp_rf1)\n",
        "print('FN for Random Forest :', fn_rf1)"
      ],
      "execution_count": 64,
      "outputs": [
        {
          "output_type": "stream",
          "text": [
            "TP for Random Forest : 7411\n",
            "TN for Random Forest : 1930\n",
            "FP for Random Forest : 5949\n",
            "FN for Random Forest : 468\n"
          ],
          "name": "stdout"
        }
      ]
    },
    {
      "cell_type": "markdown",
      "metadata": {
        "id": "jhjYqqR2H8xU"
      },
      "source": [
        "In a similar way complete all the functions below"
      ]
    },
    {
      "cell_type": "code",
      "metadata": {
        "id": "G8RHrb5kQ_I_"
      },
      "source": [
        "def compute_accuracy(tp, tn, fn, fp):\n",
        "  acc = (tp + tn)/(tp + tn + fp + fn)\n",
        "  return acc"
      ],
      "execution_count": 65,
      "outputs": []
    },
    {
      "cell_type": "code",
      "metadata": {
        "id": "NR5DT6tHRvc5",
        "colab": {
          "base_uri": "https://localhost:8080/"
        },
        "outputId": "85e6edf2-345f-4906-c83d-86f32059ea8a"
      },
      "source": [
        "print('Accuracy for Logistic Regression :', compute_accuracy(tp_lr, tn_lr, fn_lr, fp_lr))\n",
        "print('Accuracy for Random Forest :', compute_accuracy(tp_rf, tn_rf, fn_rf, fp_rf))"
      ],
      "execution_count": 66,
      "outputs": [
        {
          "output_type": "stream",
          "text": [
            "Accuracy for Logistic Regression : 0.5963320218301815\n",
            "Accuracy for Random Forest : 0.5927782713542328\n"
          ],
          "name": "stdout"
        }
      ]
    },
    {
      "cell_type": "code",
      "metadata": {
        "id": "Oa_Yf9boSN3M"
      },
      "source": [
        "from sklearn.metrics import accuracy_score"
      ],
      "execution_count": 67,
      "outputs": []
    },
    {
      "cell_type": "code",
      "metadata": {
        "id": "SUiyyqq-SWer",
        "colab": {
          "base_uri": "https://localhost:8080/"
        },
        "outputId": "12611f18-ab6e-47a2-f1bc-58aa4482da88"
      },
      "source": [
        "print('Accuracy for Logistic Regression :', 100* accuracy_score(df.y_act, \n",
        "                                                           df.y_pred_lr))\n",
        "print('Accuracy for Random Forest :', 100*accuracy_score(df.y_act, \n",
        "                                                           df.y_pred_rf))"
      ],
      "execution_count": 68,
      "outputs": [
        {
          "output_type": "stream",
          "text": [
            "Accuracy for Logistic Regression : 59.633202183018156\n",
            "Accuracy for Random Forest : 59.27782713542328\n"
          ],
          "name": "stdout"
        }
      ]
    },
    {
      "cell_type": "code",
      "metadata": {
        "id": "Lirv9_L0SZ85"
      },
      "source": [
        "def compute_precision(tp, fp):\n",
        "\tprec = tp / (tp + fp)\n",
        "\treturn prec"
      ],
      "execution_count": 69,
      "outputs": []
    },
    {
      "cell_type": "code",
      "metadata": {
        "id": "fXBCPFF9XVqR",
        "colab": {
          "base_uri": "https://localhost:8080/"
        },
        "outputId": "e0d581b8-8b94-4b84-a8c0-88e4734b0d5b"
      },
      "source": [
        "print('Precision for Logistic Regression :', compute_precision(tp_lr, fp_lr))\n",
        "print('Precision for Random Forest :', compute_precision(tp_rf, fp_rf))"
      ],
      "execution_count": 70,
      "outputs": [
        {
          "output_type": "stream",
          "text": [
            "Precision for Logistic Regression : 0.5657029085872576\n",
            "Precision for Random Forest : 0.5547155688622755\n"
          ],
          "name": "stdout"
        }
      ]
    },
    {
      "cell_type": "code",
      "metadata": {
        "id": "bKvrMNKSYpWW",
        "colab": {
          "base_uri": "https://localhost:8080/"
        },
        "outputId": "a898cae0-57c1-426b-b2e1-312692857c93"
      },
      "source": [
        "from sklearn.metrics import precision_score\n",
        "print('Precision for Logistic Regression :', 100* precision_score(df.y_act, \n",
        "                                                           df.y_pred_lr))\n",
        "print('Precision for Random Forest :', 100* precision_score(df.y_act, \n",
        "                                                           df.y_pred_rf))"
      ],
      "execution_count": 71,
      "outputs": [
        {
          "output_type": "stream",
          "text": [
            "Precision for Logistic Regression : 56.570290858725755\n",
            "Precision for Random Forest : 55.471556886227546\n"
          ],
          "name": "stdout"
        }
      ]
    },
    {
      "cell_type": "code",
      "metadata": {
        "id": "ZsrGqhaMY2j9"
      },
      "source": [
        "def compute_recall(tp, fn):\n",
        "\trcl = tp / (tp + fn)\n",
        "\treturn rcl"
      ],
      "execution_count": 72,
      "outputs": []
    },
    {
      "cell_type": "code",
      "metadata": {
        "id": "t9nsMZwBbFqF",
        "colab": {
          "base_uri": "https://localhost:8080/"
        },
        "outputId": "5ba670b7-b132-43a3-c8d2-a4cb3ae1645d"
      },
      "source": [
        "print('Recall for Logistic Regression :', compute_recall(tp_lr, fn_lr))\n",
        "print('Recall for Random Forest :', compute_recall(tp_rf, fn_rf))"
      ],
      "execution_count": 73,
      "outputs": [
        {
          "output_type": "stream",
          "text": [
            "Recall for Logistic Regression : 0.8294199771544613\n",
            "Recall for Random Forest : 0.9406015991877141\n"
          ],
          "name": "stdout"
        }
      ]
    },
    {
      "cell_type": "code",
      "metadata": {
        "id": "hctMfFOCa-OX",
        "colab": {
          "base_uri": "https://localhost:8080/"
        },
        "outputId": "2963fd72-10bb-4abb-bd95-f936f1b564d7"
      },
      "source": [
        "from sklearn.metrics import recall_score\n",
        "\n",
        "print('Recall for Logistic Regression :', 100* recall_score(df.y_act, \n",
        "                                                           df.y_pred_lr))\n",
        "print('Recall for Random Forest :', 100* recall_score(df.y_act, \n",
        "                                                           df.y_pred_rf))"
      ],
      "execution_count": 74,
      "outputs": [
        {
          "output_type": "stream",
          "text": [
            "Recall for Logistic Regression : 82.94199771544612\n",
            "Recall for Random Forest : 94.06015991877142\n"
          ],
          "name": "stdout"
        }
      ]
    },
    {
      "cell_type": "code",
      "metadata": {
        "id": "oYF1hlSGbiN4"
      },
      "source": [
        "def compute_f1_score(y_true, y_pred):\n",
        "  tp, tn, fp, fn = compute_tp_tn_fn_fp(y_true, y_pred)\n",
        "  prec = compute_precision(tp, fp)\n",
        "  rcl = compute_recall(tp, fn)\n",
        "  f1_score = 2*((prec*rcl)/(prec+rcl))\n",
        "  return f1_score"
      ],
      "execution_count": 75,
      "outputs": []
    },
    {
      "cell_type": "code",
      "metadata": {
        "id": "6BQl8guud5c8",
        "colab": {
          "base_uri": "https://localhost:8080/"
        },
        "outputId": "5784e034-d234-40ab-f98d-affe24a345a5"
      },
      "source": [
        "print('F1 score for Logistic Regression :', compute_f1_score(df.y_act, \n",
        "                                                             df.y_pred_lr))\n",
        "print('F1 score for Random Forest :', compute_f1_score(df.y_act, \n",
        "                                                             df.y_pred_rf))"
      ],
      "execution_count": 76,
      "outputs": [
        {
          "output_type": "stream",
          "text": [
            "F1 score for Logistic Regression : 0.6726365086717101\n",
            "F1 score for Random Forest : 0.6978671312208673\n"
          ],
          "name": "stdout"
        }
      ]
    },
    {
      "cell_type": "code",
      "metadata": {
        "id": "qBrixsxLeFHq",
        "colab": {
          "base_uri": "https://localhost:8080/"
        },
        "outputId": "99a8dadd-2b07-4c9f-993e-c240d9456e56"
      },
      "source": [
        "from sklearn.metrics import f1_score\n",
        "print('F1 score for Logistic Regression :', f1_score(df.y_act, df.y_pred_lr))\n",
        "print('F1 score for Random Forest :', f1_score(df.y_act, df.y_pred_rf))"
      ],
      "execution_count": 77,
      "outputs": [
        {
          "output_type": "stream",
          "text": [
            "F1 score for Logistic Regression : 0.6726365086717101\n",
            "F1 score for Random Forest : 0.6978671312208673\n"
          ],
          "name": "stdout"
        }
      ]
    },
    {
      "cell_type": "code",
      "metadata": {
        "id": "_ehAwBc4ecS_",
        "colab": {
          "base_uri": "https://localhost:8080/",
          "height": 282
        },
        "outputId": "9cf23c43-d779-49bb-f662-d26fc1aa4b34"
      },
      "source": [
        "from sklearn import metrics\r\n",
        "import numpy as np\r\n",
        "import matplotlib.pyplot as plt\r\n",
        "\r\n",
        "y_true = df.y_act\r\n",
        "y_probas = df.y_pred_logistic\r\n",
        "fpr, tpr, thresholds = metrics.roc_curve(y_true, y_probas, pos_label=0)\r\n",
        "\r\n",
        "# Print ROC curve\r\n",
        "plt.plot(tpr,fpr)\r\n",
        "plt.show() \r\n",
        "\r\n",
        "# Print AUC\r\n",
        "auc = np.trapz(tpr,fpr)\r\n",
        "print('AUC:', auc)"
      ],
      "execution_count": 78,
      "outputs": [
        {
          "output_type": "display_data",
          "data": {
            "image/png": "[encoded data removed]",
            "text/plain": [
              "<Figure size 432x288 with 1 Axes>"
            ]
          },
          "metadata": {
            "tags": [],
            "needs_background": "light"
          }
        },
        {
          "output_type": "stream",
          "text": [
            "AUC: 0.33425647961591176\n"
          ],
          "name": "stdout"
        }
      ]
    }
  ]
}