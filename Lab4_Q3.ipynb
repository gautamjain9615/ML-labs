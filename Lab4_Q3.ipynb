{
  "nbformat": 4,
  "nbformat_minor": 0,
  "metadata": {
    "colab": {
      "name": "Lab4_Q3.ipynb",
      "provenance": [],
      "collapsed_sections": []
    },
    "kernelspec": {
      "display_name": "Python 3",
      "language": "python",
      "name": "python3"
    },
    "language_info": {
      "codemirror_mode": {
        "name": "ipython",
        "version": 3
      },
      "file_extension": ".py",
      "mimetype": "text/x-python",
      "name": "python",
      "nbconvert_exporter": "python",
      "pygments_lexer": "ipython3",
      "version": "3.8.5"
    }
  },
  "cells": [
    {
      "cell_type": "markdown",
      "metadata": {
        "id": "izU8PETajYKi"
      },
      "source": [
        "Create two random data sets with two features and two classes"
      ]
    },
    {
      "cell_type": "markdown",
      "metadata": {
        "id": "Jzz_J_uiAAYZ"
      },
      "source": [
        "Dependencies"
      ]
    },
    {
      "cell_type": "code",
      "metadata": {
        "id": "fEMx2juljs4x"
      },
      "source": [
        "import numpy as np\n",
        "import pandas as pd\n",
        "import matplotlib.pyplot as plt\n",
        "import warnings\n",
        "warnings.filterwarnings('ignore')"
      ],
      "execution_count": null,
      "outputs": []
    },
    {
      "cell_type": "code",
      "metadata": {
        "colab": {
          "base_uri": "https://localhost:8080/"
        },
        "id": "LFepInlpsYpf",
        "outputId": "8fed82e8-5018-4355-aed8-a6c8654e39ad"
      },
      "source": [
        "from google.colab import drive\n",
        "drive.mount('/content/drive')"
      ],
      "execution_count": null,
      "outputs": [
        {
          "output_type": "stream",
          "text": [
            "Drive already mounted at /content/drive; to attempt to forcibly remount, call drive.mount(\"/content/drive\", force_remount=True).\n"
          ],
          "name": "stdout"
        }
      ]
    },
    {
      "cell_type": "code",
      "metadata": {
        "id": "ckzMbWAUsjDW"
      },
      "source": [
        "path = \"/content/drive/MyDrive/priject1/lab4/Data.csv\""
      ],
      "execution_count": null,
      "outputs": []
    },
    {
      "cell_type": "markdown",
      "metadata": {
        "id": "tOL1rB9NAD-x"
      },
      "source": [
        "Consider that you are given a car height and you have the class label as 1 if cost of car is greater than 550 and 0 if it is less than or equal to 550."
      ]
    },
    {
      "cell_type": "code",
      "metadata": {
        "id": "cw-G401DAaTV"
      },
      "source": [
        "data = pd.read_csv(path).to_numpy()"
      ],
      "execution_count": null,
      "outputs": []
    },
    {
      "cell_type": "markdown",
      "metadata": {
        "id": "yj4KM4I2CA_L"
      },
      "source": [
        "# Create the labels from the data"
      ]
    },
    {
      "cell_type": "code",
      "metadata": {
        "id": "CTVzL0koBd_s"
      },
      "source": [
        "label = []\n",
        "x_c1 = []\n",
        "x_c2 = []\n",
        "c1_count = 0\n",
        "c2_count = 0\n",
        "for i in range(data.shape[0]):\n",
        "  if(data[i][1] > 550):\n",
        "    label.append(1)\n",
        "    x_c1.append(data[i][0])\n",
        "    c1_count += 1\n",
        "  else:\n",
        "    label.append(0)\n",
        "    x_c2.append(data[i][0])\n",
        "    c2_count += 1"
      ],
      "execution_count": null,
      "outputs": []
    },
    {
      "cell_type": "markdown",
      "metadata": {
        "id": "kaLcCoaVCN-v"
      },
      "source": [
        "# Plotting the distribution of samples."
      ]
    },
    {
      "cell_type": "code",
      "metadata": {
        "colab": {
          "base_uri": "https://localhost:8080/",
          "height": 282
        },
        "id": "YJUJkPO1CTGI",
        "outputId": "5ec2cefc-f6f8-4dfc-eb79-6170c471e89a"
      },
      "source": [
        "import seaborn as sns\n",
        "x = data[:,0]\n",
        "sns.histplot(x)\n",
        "#Not a preferred way to plot distribution"
      ],
      "execution_count": null,
      "outputs": [
        {
          "output_type": "execute_result",
          "data": {
            "text/plain": [
              "<matplotlib.axes._subplots.AxesSubplot at 0x7f0c96e67450>"
            ]
          },
          "metadata": {
            "tags": []
          },
          "execution_count": 6
        },
        {
          "output_type": "display_data",
          "data": {
            "image/png": "[encoded data removed]",
            "text/plain": [
              "<Figure size 432x288 with 1 Axes>"
            ]
          },
          "metadata": {
            "tags": [],
            "needs_background": "light"
          }
        }
      ]
    },
    {
      "cell_type": "code",
      "metadata": {
        "colab": {
          "base_uri": "https://localhost:8080/",
          "height": 279
        },
        "id": "Oc5zBirFHbUN",
        "outputId": "129cc617-78db-46df-e1ad-926f80ae80b0"
      },
      "source": [
        "#This gives a clear idea\n",
        "plt.hist(x)\n",
        "plt.xlabel(\"Height\")\n",
        "plt.ylabel(\"Count\")\n",
        "plt.show()"
      ],
      "execution_count": null,
      "outputs": [
        {
          "output_type": "display_data",
          "data": {
            "image/png": "[encoded data removed]",
            "text/plain": [
              "<Figure size 432x288 with 1 Axes>"
            ]
          },
          "metadata": {
            "tags": [],
            "needs_background": "light"
          }
        }
      ]
    },
    {
      "cell_type": "markdown",
      "metadata": {
        "id": "x9jp64nSDLjp"
      },
      "source": [
        "# Prior Probabilities for both the classes"
      ]
    },
    {
      "cell_type": "code",
      "metadata": {
        "colab": {
          "base_uri": "https://localhost:8080/"
        },
        "id": "5rCzFekrDO0s",
        "outputId": "e38638de-8796-4f55-b2da-6fabc2c570fa"
      },
      "source": [
        "no_of_samples = len(data)\n",
        "prob_c1 = c1_count/no_of_samples\n",
        "prob_c2 = c2_count/no_of_samples\n",
        "print(\"Prior Class 1:\",prob_c1)\n",
        "print(\"Prior Class 2:\",prob_c2)"
      ],
      "execution_count": null,
      "outputs": [
        {
          "output_type": "stream",
          "text": [
            "Prior Class 1: 0.8518518518518519\n",
            "Prior Class 2: 0.14814814814814814\n"
          ],
          "name": "stdout"
        }
      ]
    },
    {
      "cell_type": "markdown",
      "metadata": {
        "id": "NxqjnXOQEWTd"
      },
      "source": [
        "# Unique Values"
      ]
    },
    {
      "cell_type": "code",
      "metadata": {
        "id": "z-lzaxRbFUpG"
      },
      "source": [
        "from collections import Counter\n",
        "unique_c1 = Counter(x_c1).keys() \n",
        "count_unique_c1 = list(Counter(x_c1).values()) \n",
        "unique_c2 = Counter(x_c2).keys() \n",
        "count_unique_c2 = list(Counter(x_c2).values()) "
      ],
      "execution_count": null,
      "outputs": []
    },
    {
      "cell_type": "markdown",
      "metadata": {
        "id": "TKVN0qP8GpcF"
      },
      "source": [
        "Plot the count of each unique element of the feature"
      ]
    },
    {
      "cell_type": "code",
      "metadata": {
        "colab": {
          "base_uri": "https://localhost:8080/"
        },
        "id": "uMKviaLiJ02z",
        "outputId": "755b39c9-17d7-48f1-e31f-22a37df0f957"
      },
      "source": [
        "unique_c1"
      ],
      "execution_count": null,
      "outputs": [
        {
          "output_type": "execute_result",
          "data": {
            "text/plain": [
              "dict_keys([3.0, 4.0, 2.0, 1.0, 1.5, 2.5])"
            ]
          },
          "metadata": {
            "tags": []
          },
          "execution_count": 10
        }
      ]
    },
    {
      "cell_type": "code",
      "metadata": {
        "colab": {
          "base_uri": "https://localhost:8080/"
        },
        "id": "zVrxG0XOJ30W",
        "outputId": "f498a1e8-14e6-430c-88fc-fe4f9af561a7"
      },
      "source": [
        "count_unique_c1"
      ],
      "execution_count": null,
      "outputs": [
        {
          "output_type": "execute_result",
          "data": {
            "text/plain": [
              "[6, 1, 4, 5, 5, 2]"
            ]
          },
          "metadata": {
            "tags": []
          },
          "execution_count": 11
        }
      ]
    },
    {
      "cell_type": "code",
      "metadata": {
        "colab": {
          "base_uri": "https://localhost:8080/",
          "height": 279
        },
        "id": "NMKYZoUQGq16",
        "outputId": "97bfbb91-769e-4c9f-a23d-cc1f2f0e152f"
      },
      "source": [
        "#Not a preferred way to plot distribution\n",
        "plt.bar(unique_c1,count_unique_c1)\n",
        "plt.xlabel(\"Elements in class\")\n",
        "plt.ylabel(\"Count\")\n",
        "plt.show()"
      ],
      "execution_count": null,
      "outputs": [
        {
          "output_type": "display_data",
          "data": {
            "image/png": "[encoded data removed]",
            "text/plain": [
              "<Figure size 432x288 with 1 Axes>"
            ]
          },
          "metadata": {
            "tags": [],
            "needs_background": "light"
          }
        }
      ]
    },
    {
      "cell_type": "code",
      "metadata": {
        "colab": {
          "base_uri": "https://localhost:8080/",
          "height": 279
        },
        "id": "GjcrMXXnKxq-",
        "outputId": "7c618a88-642d-4231-8de8-2c7018995535"
      },
      "source": [
        "sns.lineplot(list(unique_c1),count_unique_c1)\n",
        "plt.xlabel(\"Elements in class\")\n",
        "plt.ylabel(\"Count\")\n",
        "plt.show()"
      ],
      "execution_count": null,
      "outputs": [
        {
          "output_type": "display_data",
          "data": {
            "image/png": "[encoded data removed]",
            "text/plain": [
              "<Figure size 432x288 with 1 Axes>"
            ]
          },
          "metadata": {
            "tags": [],
            "needs_background": "light"
          }
        }
      ]
    },
    {
      "cell_type": "code",
      "metadata": {
        "colab": {
          "base_uri": "https://localhost:8080/",
          "height": 279
        },
        "id": "QAmdvoVtWB1K",
        "outputId": "1af84df0-7145-452b-b717-fcab3dcd25f2"
      },
      "source": [
        "#Probability distribution of x_c2\n",
        "sns.distplot(x_c2)\n",
        "plt.xlabel(\"Elements in class\")\n",
        "plt.ylabel(\"Count\")\n",
        "plt.show()"
      ],
      "execution_count": null,
      "outputs": [
        {
          "output_type": "display_data",
          "data": {
            "image/png": "[encoded data removed]",
            "text/plain": [
              "<Figure size 432x288 with 1 Axes>"
            ]
          },
          "metadata": {
            "tags": [],
            "needs_background": "light"
          }
        }
      ]
    },
    {
      "cell_type": "code",
      "metadata": {
        "colab": {
          "base_uri": "https://localhost:8080/",
          "height": 279
        },
        "id": "R6BHvHIpL1R1",
        "outputId": "b1aa2efc-f56d-4c1c-ecce-4d903128f8f6"
      },
      "source": [
        "#Plot for the unique values in class c2\n",
        "sns.scatterplot(list(unique_c2),count_unique_c2)\n",
        "plt.xlabel(\"Elements in class\")\n",
        "plt.ylabel(\"Count\")\n",
        "plt.show()"
      ],
      "execution_count": null,
      "outputs": [
        {
          "output_type": "display_data",
          "data": {
            "image/png": "[encoded data removed]",
            "text/plain": [
              "<Figure size 432x288 with 1 Axes>"
            ]
          },
          "metadata": {
            "tags": [],
            "needs_background": "light"
          }
        }
      ]
    },
    {
      "cell_type": "markdown",
      "metadata": {
        "id": "azsz3ku0sLip"
      },
      "source": [
        "# Likelihood"
      ]
    },
    {
      "cell_type": "markdown",
      "metadata": {
        "id": "fb34_4t7Phao"
      },
      "source": [
        "Plot P(x|C1) and P(x|C2)"
      ]
    },
    {
      "cell_type": "code",
      "metadata": {
        "colab": {
          "base_uri": "https://localhost:8080/",
          "height": 279
        },
        "id": "bAWU2UelOclu",
        "outputId": "bba9574a-6d13-46cf-8f70-caa2a31116df"
      },
      "source": [
        "#sns.color_palette(\"Paired\", 9)\n",
        "y1 = np.array(count_unique_c1)/len(x_c1)\n",
        "sns.pointplot(list(unique_c1),y1, linestyles=\"--\",markers =['x'] )\n",
        "y2 = np.array(count_unique_c2)/len(x_c2)\n",
        "sns.pointplot(list(unique_c2),y2,linestyles='-',markers=['o'])\n",
        "plt.xlabel(\"Class\")\n",
        "plt.ylabel(\"P(x|c)\")\n",
        "plt.show()"
      ],
      "execution_count": null,
      "outputs": [
        {
          "output_type": "display_data",
          "data": {
            "image/png": "[encoded data removed]",
            "text/plain": [
              "<Figure size 432x288 with 1 Axes>"
            ]
          },
          "metadata": {
            "tags": [],
            "needs_background": "light"
          }
        }
      ]
    },
    {
      "cell_type": "code",
      "metadata": {
        "collapsed": true,
        "id": "MlwnmoxgsLis"
      },
      "source": [
        ""
      ],
      "execution_count": null,
      "outputs": []
    },
    {
      "cell_type": "markdown",
      "metadata": {
        "id": "n-aTLzeVEnvL"
      },
      "source": [
        "# Posterior Probability"
      ]
    },
    {
      "cell_type": "code",
      "metadata": {
        "collapsed": true,
        "id": "jILlWDYyExKs"
      },
      "source": [
        "P_c1_x = prob_c1*y1"
      ],
      "execution_count": null,
      "outputs": []
    },
    {
      "cell_type": "code",
      "metadata": {
        "collapsed": true,
        "id": "DtcnOhq3Ipa3"
      },
      "source": [
        "P_c2_x = prob_c2*y2"
      ],
      "execution_count": null,
      "outputs": []
    },
    {
      "cell_type": "code",
      "metadata": {
        "colab": {
          "base_uri": "https://localhost:8080/"
        },
        "id": "EpIrnWPq8yDJ",
        "outputId": "fa5fd474-282c-4a0f-a277-27e5b71dc68b"
      },
      "source": [
        "y1"
      ],
      "execution_count": null,
      "outputs": [
        {
          "output_type": "execute_result",
          "data": {
            "text/plain": [
              "array([0.26086957, 0.04347826, 0.17391304, 0.2173913 , 0.2173913 ,\n",
              "       0.08695652])"
            ]
          },
          "metadata": {
            "tags": []
          },
          "execution_count": 19
        }
      ]
    },
    {
      "cell_type": "markdown",
      "metadata": {
        "id": "9tNzBLq8PtDF"
      },
      "source": [
        "Plot P(C1|x) and P(C2|x)"
      ]
    },
    {
      "cell_type": "code",
      "metadata": {
        "id": "V4buNIKIIsjD",
        "colab": {
          "base_uri": "https://localhost:8080/",
          "height": 279
        },
        "outputId": "8f30dca9-73f2-48ee-f639-34f3203263b5"
      },
      "source": [
        "sns.pointplot(list(unique_c1),P_c1_x, linestyles=\"--\",markers =['x'] )\n",
        "sns.pointplot(list(unique_c2),P_c2_x,linestyles='-',markers=['o'])\n",
        "plt.xlabel(\"Class\")\n",
        "plt.ylabel(\"P(C|X)\")\n",
        "plt.show()"
      ],
      "execution_count": null,
      "outputs": [
        {
          "output_type": "display_data",
          "data": {
            "image/png": "[encoded data removed]",
            "text/plain": [
              "<Figure size 432x288 with 1 Axes>"
            ]
          },
          "metadata": {
            "tags": [],
            "needs_background": "light"
          }
        }
      ]
    },
    {
      "cell_type": "markdown",
      "metadata": {
        "id": "PHufzKbiCF7Q"
      },
      "source": [
        "# Dataset 2"
      ]
    },
    {
      "cell_type": "markdown",
      "metadata": {
        "id": "wjmO4tOgJHxF"
      },
      "source": [
        "Read dataset. c1 contains two features of class 1 and c2 contains the two features for class 2. "
      ]
    },
    {
      "cell_type": "code",
      "metadata": {
        "id": "LFNPgrUtjI3l"
      },
      "source": [
        "class1_train = pd.read_csv('/content/drive/MyDrive/priject1/lab4/c1.csv').to_numpy()\n",
        "class2_train = pd.read_csv('/content/drive/MyDrive/priject1/lab4/c2.csv').to_numpy()"
      ],
      "execution_count": null,
      "outputs": []
    },
    {
      "cell_type": "markdown",
      "metadata": {
        "id": "mBk8Z1cUJQ4m"
      },
      "source": [
        "Print the data"
      ]
    },
    {
      "cell_type": "code",
      "metadata": {
        "colab": {
          "base_uri": "https://localhost:8080/"
        },
        "id": "nyc-0P38jr17",
        "outputId": "415dd94f-ab94-4163-c4ec-60958478ffe2"
      },
      "source": [
        "print(class1_train.shape)\n",
        "print(class1_train)\n",
        "print(type(class2_train))\n",
        "print(class2_train.shape)\n",
        "print(type(class1_train))\n",
        "print(class2_train)"
      ],
      "execution_count": null,
      "outputs": [
        {
          "output_type": "stream",
          "text": [
            "(160, 2)\n",
            "[[ 3.20478053e-01  4.81092097e-01]\n",
            " [ 5.06909985e-02  9.63995041e-02]\n",
            " [ 3.74846984e+00  4.03931041e-01]\n",
            " [ 2.25637447e+00  2.08996208e+00]\n",
            " [ 1.42145382e+00  1.24362901e+00]\n",
            " [ 4.08062705e-01  9.24810050e-01]\n",
            " [ 1.60681941e+00  4.75268430e-01]\n",
            " [ 1.57397678e+00  1.60394699e+00]\n",
            " [ 1.73121450e+00  2.43452464e+00]\n",
            " [ 9.30696141e-01  2.12345759e-01]\n",
            " [ 1.43750641e+00 -2.84913595e-01]\n",
            " [-4.91480512e-01  2.70506180e-01]\n",
            " [ 2.35052206e+00  2.34923853e+00]\n",
            " [ 1.06032568e+00  2.25909849e-01]\n",
            " [ 2.23321779e+00  1.18800751e+00]\n",
            " [-3.36602971e-01  8.26100949e-01]\n",
            " [ 1.21051794e+00  3.59324046e-01]\n",
            " [ 1.95878231e+00  2.81435856e+00]\n",
            " [ 5.35856323e-01 -1.54336636e-01]\n",
            " [ 2.89423945e+00  1.71311383e+00]\n",
            " [ 1.38569352e+00  1.74692600e+00]\n",
            " [ 1.27854113e+00 -3.70841388e-01]\n",
            " [-9.07354159e-02  2.42044784e+00]\n",
            " [ 9.07143282e-01  5.69730755e-01]\n",
            " [ 2.28848082e+00  1.68559588e+00]\n",
            " [-1.53479431e-01 -3.95808482e-01]\n",
            " [ 2.40208659e+00  4.41623125e-01]\n",
            " [ 1.21455553e+00  1.51675544e+00]\n",
            " [ 3.15059021e+00  2.15931522e+00]\n",
            " [ 1.61705139e-01  2.27584873e-01]\n",
            " [ 3.76563297e-01  2.39668017e+00]\n",
            " [-7.80093524e-02  1.29550862e+00]\n",
            " [ 7.93102203e-01  7.18138670e-01]\n",
            " [ 6.38655629e-01  1.71512068e+00]\n",
            " [ 1.17419310e+00  1.21156020e+00]\n",
            " [ 7.82910083e-01  1.83746859e+00]\n",
            " [ 1.56704382e+00  2.32571221e+00]\n",
            " [ 1.34640435e+00  1.53574863e+00]\n",
            " [ 1.48100091e+00  1.97369049e+00]\n",
            " [ 1.32115969e-01  3.72019145e+00]\n",
            " [ 6.47153893e-01  1.90929459e+00]\n",
            " [ 8.34537190e-01  4.36696082e-01]\n",
            " [ 1.79097819e+00  4.97727218e-01]\n",
            " [ 1.65613457e-01  4.48146568e-01]\n",
            " [ 1.77382987e+00  3.59584258e-01]\n",
            " [ 2.81055454e-01  1.86934895e+00]\n",
            " [-5.41514032e-01 -1.78206678e+00]\n",
            " [-3.17104082e-03  5.82448438e-01]\n",
            " [ 2.65977524e-01  7.45623206e-01]\n",
            " [ 1.67998755e+00  1.47524432e+00]\n",
            " [-7.69278364e-02  5.51096714e-01]\n",
            " [ 5.31289201e-01  1.23125697e+00]\n",
            " [-1.35464199e+00  2.31165217e+00]\n",
            " [ 1.86463296e+00  1.04276634e+00]\n",
            " [ 1.37080655e-01  9.59573148e-01]\n",
            " [ 6.72782686e-01  1.33101489e+00]\n",
            " [ 2.71373259e-01  2.09255502e+00]\n",
            " [ 4.90872899e-01  1.42871276e+00]\n",
            " [ 8.44245750e-01  1.45908004e+00]\n",
            " [-1.41755824e-01  1.60526601e+00]\n",
            " [-5.43108759e-01  2.55483216e+00]\n",
            " [ 1.86662852e+00 -4.95533153e-01]\n",
            " [ 1.62968289e+00 -2.07118592e-01]\n",
            " [-9.41519515e-02  1.63625097e+00]\n",
            " [-2.79426133e-01  1.41589476e+00]\n",
            " [-6.83401357e-01  9.43997185e-01]\n",
            " [ 2.84099543e+00  1.68822895e+00]\n",
            " [ 2.49599528e-01  1.30062987e+00]\n",
            " [ 7.00035666e-01 -2.71102265e-01]\n",
            " [-4.03926837e-01  2.10141031e+00]\n",
            " [ 1.06378846e-02  1.07368558e+00]\n",
            " [ 8.79023000e-01 -5.53299817e-01]\n",
            " [ 7.96222695e-01  2.03630162e+00]\n",
            " [ 1.63923033e+00  5.28634691e-01]\n",
            " [ 3.47535578e-01  2.31594124e+00]\n",
            " [ 1.09034673e+00  5.81402834e-01]\n",
            " [ 1.59950909e+00  1.57251835e+00]\n",
            " [ 1.71809918e+00  1.69350589e+00]\n",
            " [-3.26992419e-01  1.26337157e+00]\n",
            " [ 1.45715845e+00 -5.77884572e-01]\n",
            " [ 2.29163646e+00 -1.67802437e+00]\n",
            " [ 1.53354517e+00  1.41717632e+00]\n",
            " [ 1.25734675e+00  2.27775563e+00]\n",
            " [-3.97442350e-01  4.97510207e-01]\n",
            " [ 1.85502902e+00  1.63659070e+00]\n",
            " [ 1.66070698e+00  4.62049120e-01]\n",
            " [ 1.83500805e+00  4.78981246e-01]\n",
            " [-4.48501805e-01  6.91542368e-01]\n",
            " [ 1.33206620e+00  2.51223858e-01]\n",
            " [ 5.34460573e-01  1.36866125e+00]\n",
            " [ 3.08028369e+00  2.13323258e+00]\n",
            " [ 2.56037183e+00  1.20455583e+00]\n",
            " [-8.12853105e-01  6.72161126e-01]\n",
            " [ 6.08373202e-01  1.45279870e-01]\n",
            " [ 1.64903113e+00  1.84257012e+00]\n",
            " [ 7.64268036e-01  1.19328978e-01]\n",
            " [-1.54616074e+00  1.54949478e+00]\n",
            " [ 1.12912699e-01  5.20482737e-01]\n",
            " [ 6.26671034e-01  2.19932279e+00]\n",
            " [ 4.37228150e-01  1.51231575e+00]\n",
            " [ 6.20802826e-01 -3.75429035e-02]\n",
            " [-2.32788588e-01  1.16106876e+00]\n",
            " [ 5.47319033e-01  1.32959599e+00]\n",
            " [-5.08058110e-01  5.65862993e-01]\n",
            " [-1.12255957e-01  1.66569447e+00]\n",
            " [ 1.10432791e+00  1.45039760e-01]\n",
            " [ 4.76066716e-01  4.74144853e-01]\n",
            " [ 1.50196813e+00  1.84635107e+00]\n",
            " [ 2.23265492e+00  1.75318958e+00]\n",
            " [ 2.29377019e+00  1.30509813e+00]\n",
            " [ 9.07942796e-01  7.00611759e-01]\n",
            " [ 1.13254903e+00  1.02626596e+00]\n",
            " [ 8.54065000e-01  1.38844087e+00]\n",
            " [ 6.53905976e-01  2.38008826e-01]\n",
            " [ 1.71254571e+00  1.23857520e+00]\n",
            " [ 1.50098858e+00  1.38288967e+00]\n",
            " [ 4.78423464e-01  8.05416806e-01]\n",
            " [ 3.17753682e-01  1.13624769e+00]\n",
            " [ 1.50595214e+00  2.16815705e+00]\n",
            " [ 1.02321995e+00  4.24118866e-01]\n",
            " [ 8.91047866e-01  3.42817869e-01]\n",
            " [ 1.19797585e+00  1.46254751e+00]\n",
            " [ 1.29278402e+00  1.79121697e+00]\n",
            " [ 7.57546960e-01  5.19767193e-01]\n",
            " [ 1.21450536e+00  4.66844731e-01]\n",
            " [ 2.89530342e+00  3.02859786e+00]\n",
            " [ 1.88832348e-01  1.57914801e+00]\n",
            " [ 1.95222684e+00  2.00068827e+00]\n",
            " [ 3.16808561e-01 -4.96124630e-01]\n",
            " [ 8.98482736e-01  2.01440669e+00]\n",
            " [ 2.69468703e+00  2.18881682e-01]\n",
            " [ 1.94441669e-01  3.99373790e-01]\n",
            " [-1.64156190e-01  1.05062882e+00]\n",
            " [ 1.47536889e+00  6.46124625e-01]\n",
            " [ 1.07130560e-01  5.99864878e-01]\n",
            " [ 9.50165257e-01  2.29633934e+00]\n",
            " [ 3.69413795e-01  1.78269675e+00]\n",
            " [ 3.65390197e-01  1.71821839e+00]\n",
            " [ 1.83836715e+00 -1.54973354e-01]\n",
            " [-2.14790517e-01  8.24905710e-01]\n",
            " [ 1.85458954e+00  1.56737735e-01]\n",
            " [ 8.35193143e-01 -1.27234055e-01]\n",
            " [ 2.22949907e+00  7.09936040e-01]\n",
            " [ 1.21839345e+00  3.42619229e-01]\n",
            " [ 1.58295425e+00 -2.06538409e-01]\n",
            " [ 1.02094589e+00 -8.53956382e-02]\n",
            " [ 2.49658753e+00  2.34057083e+00]\n",
            " [ 6.11183752e-01  9.48687274e-01]\n",
            " [ 1.14635245e+00  5.81664167e-01]\n",
            " [ 2.13218993e+00  1.00272506e+00]\n",
            " [ 5.11547343e-01  7.53061210e-01]\n",
            " [ 1.41787065e-01  9.70052104e-01]\n",
            " [ 1.76369632e+00 -1.45803711e+00]\n",
            " [-1.15921000e+00  6.25002729e-01]\n",
            " [ 3.92831716e-01  5.79477737e-01]\n",
            " [ 3.83431563e+00  2.57879379e+00]\n",
            " [ 1.69017776e+00  2.13917001e-01]\n",
            " [ 6.10302214e-01  7.98047113e-01]\n",
            " [ 1.64545215e+00  9.80061156e-01]\n",
            " [ 2.18614787e+00  1.65524566e+00]]\n",
            "<class 'numpy.ndarray'>\n",
            "(39, 2)\n",
            "<class 'numpy.ndarray'>\n",
            "[[-0.7790189   1.16386885]\n",
            " [-1.34514566 -2.32370674]\n",
            " [-0.52836145 -1.59400495]\n",
            " [-0.90417352 -1.30611604]\n",
            " [-1.01948659 -1.33690662]\n",
            " [ 0.4017355  -0.1928143 ]\n",
            " [ 0.17997268 -0.36784276]\n",
            " [-1.75219243  0.23416112]\n",
            " [-1.33590287 -0.64121032]\n",
            " [-1.84374181 -1.15351502]\n",
            " [ 0.23512604 -0.4820237 ]\n",
            " [-0.83293518 -1.15616973]\n",
            " [-2.40313726 -0.81073131]\n",
            " [-0.20163836  0.1471181 ]\n",
            " [-1.42599684 -2.38405297]\n",
            " [-1.0061799  -0.35767457]\n",
            " [-0.09423858 -1.45204129]\n",
            " [-0.28991801 -1.0782606 ]\n",
            " [-2.44713737 -1.15621129]\n",
            " [ 0.59801799 -0.32144022]\n",
            " [-1.0064447  -1.030278  ]\n",
            " [-0.82970779 -0.05044485]\n",
            " [-0.76248959 -0.84384686]\n",
            " [-3.32471301 -1.06813795]\n",
            " [-1.48557176 -1.87571896]\n",
            " [-0.99962918  0.58229286]\n",
            " [ 0.8557429   0.56950641]\n",
            " [-2.72520704 -2.81035423]\n",
            " [-3.70248416 -1.81223506]\n",
            " [-0.63945063 -0.40306483]\n",
            " [-1.01456455 -1.98684012]\n",
            " [-0.80974435 -1.12047576]\n",
            " [-2.18284159  0.04264866]\n",
            " [-3.11712168 -2.84635664]\n",
            " [-0.20157447 -1.0574348 ]\n",
            " [-1.12415544 -0.48861234]\n",
            " [ 0.60064777 -0.38262217]\n",
            " [ 0.16293271  0.20020738]\n",
            " [-0.86757022 -2.73055969]]\n"
          ],
          "name": "stdout"
        }
      ]
    },
    {
      "cell_type": "markdown",
      "metadata": {
        "id": "R-wrTyMums4P"
      },
      "source": [
        "# Plotting the distribution of samples."
      ]
    },
    {
      "cell_type": "code",
      "metadata": {
        "colab": {
          "base_uri": "https://localhost:8080/",
          "height": 268
        },
        "id": "NcpXarchmsbk",
        "outputId": "c4c175fd-eee1-4cc6-d587-755ce246bdd5"
      },
      "source": [
        "import seaborn as sns\n",
        "sns.scatterplot(class1_train[:,0],class1_train[:,1],marker='.')\n",
        "sns.scatterplot(class2_train[:,0],class2_train[:,1],marker='x')\n",
        "plt.show()"
      ],
      "execution_count": null,
      "outputs": [
        {
          "output_type": "display_data",
          "data": {
            "image/png": "[encoded data removed]",
            "text/plain": [
              "<Figure size 432x288 with 1 Axes>"
            ]
          },
          "metadata": {
            "tags": [],
            "needs_background": "light"
          }
        }
      ]
    },
    {
      "cell_type": "markdown",
      "metadata": {
        "id": "gIoL--pDl4CC"
      },
      "source": [
        "Determine Prior Probabilities"
      ]
    },
    {
      "cell_type": "code",
      "metadata": {
        "id": "7hLlZv9Ejv-r"
      },
      "source": [
        "no_of_samples = len(class1_train)+len(class2_train)"
      ],
      "execution_count": null,
      "outputs": []
    },
    {
      "cell_type": "code",
      "metadata": {
        "colab": {
          "base_uri": "https://localhost:8080/"
        },
        "id": "6Qt2AcJgmGNl",
        "outputId": "2b39eb39-d6bb-4328-d365-6f74819dd10c"
      },
      "source": [
        "prob_c1 = len(class1_train)/no_of_samples\n",
        "prob_c1"
      ],
      "execution_count": null,
      "outputs": [
        {
          "output_type": "execute_result",
          "data": {
            "text/plain": [
              "0.8040201005025126"
            ]
          },
          "metadata": {
            "tags": []
          },
          "execution_count": 7
        }
      ]
    },
    {
      "cell_type": "code",
      "metadata": {
        "colab": {
          "base_uri": "https://localhost:8080/"
        },
        "id": "MPtKL9a1mHfj",
        "outputId": "ee19b988-b8fb-4a7d-91fd-0935792482fd"
      },
      "source": [
        "prob_c2 = len(class2_train)/no_of_samples\n",
        "prob_c2"
      ],
      "execution_count": null,
      "outputs": [
        {
          "output_type": "execute_result",
          "data": {
            "text/plain": [
              "0.19597989949748743"
            ]
          },
          "metadata": {
            "tags": []
          },
          "execution_count": 8
        }
      ]
    },
    {
      "cell_type": "markdown",
      "metadata": {
        "id": "rWiy1D4pajQk"
      },
      "source": [
        "Plotting the prior"
      ]
    },
    {
      "cell_type": "code",
      "metadata": {
        "colab": {
          "base_uri": "https://localhost:8080/",
          "height": 592
        },
        "id": "27dp41Fbai0D",
        "outputId": "0aa4df32-cd26-4ed5-c16b-89ec310007a1"
      },
      "source": [
        "#Requires proper labelling\n",
        "f = plt.figure()\n",
        "f.set_figwidth(10)\n",
        "f.set_figheight(10)\n",
        "sns.distplot(class1_train,label='C1')\n",
        "sns.distplot(class2_train)\n",
        "plt.show()"
      ],
      "execution_count": null,
      "outputs": [
        {
          "output_type": "display_data",
          "data": {
            "image/png": "[encoded data removed]",
            "text/plain": [
              "<Figure size 720x720 with 1 Axes>"
            ]
          },
          "metadata": {
            "tags": [],
            "needs_background": "light"
          }
        }
      ]
    },
    {
      "cell_type": "markdown",
      "metadata": {
        "id": "e1o8kAn0Jer9"
      },
      "source": [
        "Plot the data distribution and the histogram of feature 1 and feature 2 in the x axis and the y -axis respectively. The distribution of feature 1 wil be along the top of the x-axis and feature 2 along the right of the y axis."
      ]
    },
    {
      "cell_type": "code",
      "metadata": {
        "collapsed": true,
        "id": "ZOPTrRqRsacG"
      },
      "source": [
        ""
      ],
      "execution_count": null,
      "outputs": []
    },
    {
      "cell_type": "code",
      "metadata": {
        "id": "SYb5bxWh0Utl"
      },
      "source": [
        "from collections import Counter\n",
        "x_c1 = class1_train[:,0]\n",
        "unique_c1 = Counter(x_c1).keys() \n",
        "count_unique_c1 = list(Counter(x_c1).values()) \n",
        "x_c2 = class2_train[:,0]\n",
        "unique_c2 = Counter(x_c2).keys() \n",
        "count_unique_c2 = list(Counter(x_c2).values()) "
      ],
      "execution_count": null,
      "outputs": []
    },
    {
      "cell_type": "code",
      "metadata": {
        "colab": {
          "base_uri": "https://localhost:8080/",
          "height": 279
        },
        "id": "ZqyKXNvpejD7",
        "outputId": "42607b55-4f23-4ac0-cb1e-00a6c61b0c9f"
      },
      "source": [
        "#sns.color_palette(\"Paired\", 9)\n",
        "y1 = np.array(count_unique_c1)/len(x_c1)\n",
        "sns.pointplot(list(unique_c1),y1, linestyles=\"--\",markers =['x'] )\n",
        "y2 = np.array(count_unique_c2)/len(x_c2)\n",
        "sns.pointplot(list(unique_c2),y2,linestyles='-',markers=['o'])\n",
        "plt.xlabel(\"Class\")\n",
        "plt.ylabel(\"P(x|c)\")\n",
        "plt.show()"
      ],
      "execution_count": null,
      "outputs": [
        {
          "output_type": "display_data",
          "data": {
            "image/png": "[encoded data removed]",
            "text/plain": [
              "<Figure size 432x288 with 1 Axes>"
            ]
          },
          "metadata": {
            "tags": [],
            "needs_background": "light"
          }
        }
      ]
    },
    {
      "cell_type": "markdown",
      "metadata": {
        "id": "mCYW-UAFy-bl"
      },
      "source": [
        "# Plot the Posterior Probability for each class"
      ]
    },
    {
      "cell_type": "code",
      "metadata": {
        "collapsed": true,
        "id": "3-CD4d940-pt"
      },
      "source": [
        "P_c1_x = prob_c1*y1"
      ],
      "execution_count": null,
      "outputs": []
    },
    {
      "cell_type": "code",
      "metadata": {
        "collapsed": true,
        "id": "ZnvGAaHj7tHe"
      },
      "source": [
        "P_c2_x = prob_c1*y2"
      ],
      "execution_count": null,
      "outputs": []
    },
    {
      "cell_type": "code",
      "metadata": {
        "collapsed": true,
        "id": "Cb4H7n8W1ga0",
        "colab": {
          "base_uri": "https://localhost:8080/",
          "height": 279
        },
        "outputId": "510a0059-1a57-4280-feb3-7bec2d2aceb5"
      },
      "source": [
        "sns.pointplot(list(unique_c1),P_c1_x, linestyles=\"--\",markers =['x'] )\n",
        "sns.pointplot(list(unique_c2),P_c2_x,linestyles='-',markers=['o'])\n",
        "plt.xlabel(\"Class\")\n",
        "plt.ylabel(\"P(c|x)\")\n",
        "plt.show()"
      ],
      "execution_count": null,
      "outputs": [
        {
          "output_type": "display_data",
          "data": {
            "image/png": "[encoded data removed]",
            "text/plain": [
              "<Figure size 432x288 with 1 Axes>"
            ]
          },
          "metadata": {
            "tags": [],
            "needs_background": "light"
          }
        }
      ]
    },
    {
      "cell_type": "markdown",
      "metadata": {
        "id": "gd7wIEXuKORK"
      },
      "source": [
        "Plot the histogram of C1"
      ]
    },
    {
      "cell_type": "code",
      "metadata": {
        "colab": {
          "base_uri": "https://localhost:8080/",
          "height": 265
        },
        "id": "MuPDFWP4CDFA",
        "outputId": "0a408bde-c406-4153-f890-de0ba2cd7fca"
      },
      "source": [
        "%matplotlib inline\n",
        "import matplotlib.pyplot as plt\n",
        "df = pd.DataFrame(class1_train, columns=['x1', 'x2'])\n",
        "df.plot.hist();"
      ],
      "execution_count": null,
      "outputs": [
        {
          "output_type": "display_data",
          "data": {
            "image/png": "[encoded data removed]",
            "text/plain": [
              "<Figure size 432x288 with 1 Axes>"
            ]
          },
          "metadata": {
            "tags": [],
            "needs_background": "light"
          }
        }
      ]
    },
    {
      "cell_type": "markdown",
      "metadata": {
        "id": "T1gMmx7bKSLc"
      },
      "source": [
        "Plot the histogram of C2"
      ]
    },
    {
      "cell_type": "code",
      "metadata": {
        "id": "BfiHmRt-8c_J",
        "colab": {
          "base_uri": "https://localhost:8080/",
          "height": 265
        },
        "outputId": "2c35c495-d715-453d-c3fc-95c939ed8fa8"
      },
      "source": [
        "df = pd.DataFrame(class2_train, columns=['x1', 'x2'])\n",
        "df.plot.hist();"
      ],
      "execution_count": null,
      "outputs": [
        {
          "output_type": "display_data",
          "data": {
            "image/png": "[encoded data removed]",
            "text/plain": [
              "<Figure size 432x288 with 1 Axes>"
            ]
          },
          "metadata": {
            "tags": [],
            "needs_background": "light"
          }
        }
      ]
    },
    {
      "cell_type": "markdown",
      "metadata": {
        "id": "ioYI3x2nQs1S"
      },
      "source": [
        "# In the report please explain the plots that you are getting clearly explaining the reason ."
      ]
    }
  ]
}